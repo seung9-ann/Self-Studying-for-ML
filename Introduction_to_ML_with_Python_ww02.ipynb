{
  "nbformat": 4,
  "nbformat_minor": 0,
  "metadata": {
    "colab": {
      "name": "Introduction to ML with Python_ww02.ipynb",
      "provenance": []
    },
    "kernelspec": {
      "name": "python3",
      "display_name": "Python 3"
    },
    "language_info": {
      "name": "python"
    }
  },
  "cells": [
    {
      "cell_type": "markdown",
      "source": [
        "#2.3.1. 지도학습알고리즘과 데이터셋 에제"
      ],
      "metadata": {
        "id": "bqwWVdrd_9MP"
      }
    },
    {
      "cell_type": "code",
      "execution_count": null,
      "metadata": {
        "id": "1Gmy0jLKtQeG",
        "colab": {
          "base_uri": "https://localhost:8080/"
        },
        "outputId": "344e861a-0133-4d4d-b385-1eccc9413d72"
      },
      "outputs": [
        {
          "output_type": "stream",
          "name": "stdout",
          "text": [
            "Collecting mglearn\n",
            "  Downloading mglearn-0.1.9.tar.gz (540 kB)\n",
            "\u001b[?25l\r\u001b[K     |▋                               | 10 kB 17.1 MB/s eta 0:00:01\r\u001b[K     |█▏                              | 20 kB 9.7 MB/s eta 0:00:01\r\u001b[K     |█▉                              | 30 kB 8.2 MB/s eta 0:00:01\r\u001b[K     |██▍                             | 40 kB 7.5 MB/s eta 0:00:01\r\u001b[K     |███                             | 51 kB 3.8 MB/s eta 0:00:01\r\u001b[K     |███▋                            | 61 kB 4.5 MB/s eta 0:00:01\r\u001b[K     |████▎                           | 71 kB 4.6 MB/s eta 0:00:01\r\u001b[K     |████▉                           | 81 kB 4.3 MB/s eta 0:00:01\r\u001b[K     |█████▌                          | 92 kB 4.8 MB/s eta 0:00:01\r\u001b[K     |██████                          | 102 kB 4.4 MB/s eta 0:00:01\r\u001b[K     |██████▊                         | 112 kB 4.4 MB/s eta 0:00:01\r\u001b[K     |███████▎                        | 122 kB 4.4 MB/s eta 0:00:01\r\u001b[K     |███████▉                        | 133 kB 4.4 MB/s eta 0:00:01\r\u001b[K     |████████▌                       | 143 kB 4.4 MB/s eta 0:00:01\r\u001b[K     |█████████                       | 153 kB 4.4 MB/s eta 0:00:01\r\u001b[K     |█████████▊                      | 163 kB 4.4 MB/s eta 0:00:01\r\u001b[K     |██████████▎                     | 174 kB 4.4 MB/s eta 0:00:01\r\u001b[K     |███████████                     | 184 kB 4.4 MB/s eta 0:00:01\r\u001b[K     |███████████▌                    | 194 kB 4.4 MB/s eta 0:00:01\r\u001b[K     |████████████▏                   | 204 kB 4.4 MB/s eta 0:00:01\r\u001b[K     |████████████▊                   | 215 kB 4.4 MB/s eta 0:00:01\r\u001b[K     |█████████████▍                  | 225 kB 4.4 MB/s eta 0:00:01\r\u001b[K     |██████████████                  | 235 kB 4.4 MB/s eta 0:00:01\r\u001b[K     |██████████████▋                 | 245 kB 4.4 MB/s eta 0:00:01\r\u001b[K     |███████████████▏                | 256 kB 4.4 MB/s eta 0:00:01\r\u001b[K     |███████████████▊                | 266 kB 4.4 MB/s eta 0:00:01\r\u001b[K     |████████████████▍               | 276 kB 4.4 MB/s eta 0:00:01\r\u001b[K     |█████████████████               | 286 kB 4.4 MB/s eta 0:00:01\r\u001b[K     |█████████████████▋              | 296 kB 4.4 MB/s eta 0:00:01\r\u001b[K     |██████████████████▏             | 307 kB 4.4 MB/s eta 0:00:01\r\u001b[K     |██████████████████▉             | 317 kB 4.4 MB/s eta 0:00:01\r\u001b[K     |███████████████████▍            | 327 kB 4.4 MB/s eta 0:00:01\r\u001b[K     |████████████████████            | 337 kB 4.4 MB/s eta 0:00:01\r\u001b[K     |████████████████████▋           | 348 kB 4.4 MB/s eta 0:00:01\r\u001b[K     |█████████████████████▎          | 358 kB 4.4 MB/s eta 0:00:01\r\u001b[K     |█████████████████████▉          | 368 kB 4.4 MB/s eta 0:00:01\r\u001b[K     |██████████████████████▌         | 378 kB 4.4 MB/s eta 0:00:01\r\u001b[K     |███████████████████████         | 389 kB 4.4 MB/s eta 0:00:01\r\u001b[K     |███████████████████████▋        | 399 kB 4.4 MB/s eta 0:00:01\r\u001b[K     |████████████████████████▎       | 409 kB 4.4 MB/s eta 0:00:01\r\u001b[K     |████████████████████████▉       | 419 kB 4.4 MB/s eta 0:00:01\r\u001b[K     |█████████████████████████▌      | 430 kB 4.4 MB/s eta 0:00:01\r\u001b[K     |██████████████████████████      | 440 kB 4.4 MB/s eta 0:00:01\r\u001b[K     |██████████████████████████▊     | 450 kB 4.4 MB/s eta 0:00:01\r\u001b[K     |███████████████████████████▎    | 460 kB 4.4 MB/s eta 0:00:01\r\u001b[K     |████████████████████████████    | 471 kB 4.4 MB/s eta 0:00:01\r\u001b[K     |████████████████████████████▌   | 481 kB 4.4 MB/s eta 0:00:01\r\u001b[K     |█████████████████████████████▏  | 491 kB 4.4 MB/s eta 0:00:01\r\u001b[K     |█████████████████████████████▊  | 501 kB 4.4 MB/s eta 0:00:01\r\u001b[K     |██████████████████████████████▍ | 512 kB 4.4 MB/s eta 0:00:01\r\u001b[K     |███████████████████████████████ | 522 kB 4.4 MB/s eta 0:00:01\r\u001b[K     |███████████████████████████████▌| 532 kB 4.4 MB/s eta 0:00:01\r\u001b[K     |████████████████████████████████| 540 kB 4.4 MB/s \n",
            "\u001b[?25hRequirement already satisfied: numpy in /usr/local/lib/python3.7/dist-packages (from mglearn) (1.21.5)\n",
            "Requirement already satisfied: matplotlib in /usr/local/lib/python3.7/dist-packages (from mglearn) (3.2.2)\n",
            "Requirement already satisfied: scikit-learn in /usr/local/lib/python3.7/dist-packages (from mglearn) (1.0.2)\n",
            "Requirement already satisfied: pandas in /usr/local/lib/python3.7/dist-packages (from mglearn) (1.3.5)\n",
            "Requirement already satisfied: pillow in /usr/local/lib/python3.7/dist-packages (from mglearn) (7.1.2)\n",
            "Requirement already satisfied: cycler in /usr/local/lib/python3.7/dist-packages (from mglearn) (0.11.0)\n",
            "Requirement already satisfied: imageio in /usr/local/lib/python3.7/dist-packages (from mglearn) (2.4.1)\n",
            "Requirement already satisfied: joblib in /usr/local/lib/python3.7/dist-packages (from mglearn) (1.1.0)\n",
            "Requirement already satisfied: python-dateutil>=2.1 in /usr/local/lib/python3.7/dist-packages (from matplotlib->mglearn) (2.8.2)\n",
            "Requirement already satisfied: pyparsing!=2.0.4,!=2.1.2,!=2.1.6,>=2.0.1 in /usr/local/lib/python3.7/dist-packages (from matplotlib->mglearn) (3.0.7)\n",
            "Requirement already satisfied: kiwisolver>=1.0.1 in /usr/local/lib/python3.7/dist-packages (from matplotlib->mglearn) (1.4.0)\n",
            "Requirement already satisfied: typing-extensions in /usr/local/lib/python3.7/dist-packages (from kiwisolver>=1.0.1->matplotlib->mglearn) (3.10.0.2)\n",
            "Requirement already satisfied: six>=1.5 in /usr/local/lib/python3.7/dist-packages (from python-dateutil>=2.1->matplotlib->mglearn) (1.15.0)\n",
            "Requirement already satisfied: pytz>=2017.3 in /usr/local/lib/python3.7/dist-packages (from pandas->mglearn) (2018.9)\n",
            "Requirement already satisfied: scipy>=1.1.0 in /usr/local/lib/python3.7/dist-packages (from scikit-learn->mglearn) (1.4.1)\n",
            "Requirement already satisfied: threadpoolctl>=2.0.0 in /usr/local/lib/python3.7/dist-packages (from scikit-learn->mglearn) (3.1.0)\n",
            "Building wheels for collected packages: mglearn\n",
            "  Building wheel for mglearn (setup.py) ... \u001b[?25l\u001b[?25hdone\n",
            "  Created wheel for mglearn: filename=mglearn-0.1.9-py2.py3-none-any.whl size=582639 sha256=a5ab763e07dfedb7d5f4eb6560a3555457a78daba90abfdff83eba680c5906ed\n",
            "  Stored in directory: /root/.cache/pip/wheels/f1/17/e1/1720d6dcd70187b6b6c3750cb3508798f2b1d57c9d3214b08b\n",
            "Successfully built mglearn\n",
            "Installing collected packages: mglearn\n",
            "Successfully installed mglearn-0.1.9\n"
          ]
        }
      ],
      "source": [
        "import numpy as np\n",
        "import pandas as pd\n",
        "!pip install mglearn\n",
        "import mglearn"
      ]
    },
    {
      "cell_type": "markdown",
      "source": [
        "\n",
        "\n",
        "*  numpy : 숫자 데이터의 연산 처리\n",
        "*  pandas : 정형 데이터의 입력\n",
        "*  scikit-learn : 머신러닝 데이터 분석을 위한 모듈\n",
        "*  scipy : 복잡한 과학적 연산 처리(ex. 선형대수, 미적분)\n",
        "*  matplotlib : 시각화\n",
        "*  mglearn : 분석에서의 복잡한 시각화 함수 제공\n"
      ],
      "metadata": {
        "id": "ifodPZRz9vys"
      }
    },
    {
      "cell_type": "markdown",
      "source": [
        "**저차원데이터셋 만들기(이진분류)**"
      ],
      "metadata": {
        "id": "bwTnSmmSLmmo"
      }
    },
    {
      "cell_type": "code",
      "source": [
        "import matplotlib.pyplot as plt\n",
        "\n",
        "X, y = mglearn.datasets.make_forge() # mglearn 내장 이진분류 데이터셋 호출하여 주시고...\n",
        "\n",
        "mglearn.discrete_scatter(X[:,0], X[:,1], y) # x-axis : 첫번째 특성 // y-axis : 두번째 특성 // dot : 타겟 y의 값으로 시각화\n",
        "plt.legend([\"Class 0\", \"Class 1\"], loc=4)   # 범례를 만들어주며, loc=4는 우측하단 (1~4까지는 우측 상단을 기준으로 반시계방향)\n",
        "plt.xlabel(\"1st Feature\") # x축 라벨링\n",
        "plt.ylabel(\"2nd Feature\") # y축 라벨링\n",
        "plt.show() # 산점도 출력\n",
        "print(\"X.shape : {}\".format(X.shape))  # 데이터수 26(52), 특성이 2임을 알 수 있습니다."
      ],
      "metadata": {
        "colab": {
          "base_uri": "https://localhost:8080/",
          "height": 334
        },
        "id": "gV-R2w5tucnC",
        "outputId": "c3e25ffb-87c2-4091-883e-ff29bfcebdb0"
      },
      "execution_count": null,
      "outputs": [
        {
          "output_type": "stream",
          "name": "stderr",
          "text": [
            "/usr/local/lib/python3.7/dist-packages/sklearn/utils/deprecation.py:87: FutureWarning: Function make_blobs is deprecated; Please import make_blobs directly from scikit-learn\n",
            "  warnings.warn(msg, category=FutureWarning)\n"
          ]
        },
        {
          "output_type": "display_data",
          "data": {
            "text/plain": [
              "<Figure size 432x288 with 1 Axes>"
            ],
            "image/png": "[encoded data removed]"
          },
          "metadata": {
            "needs_background": "light"
          }
        },
        {
          "output_type": "stream",
          "name": "stdout",
          "text": [
            "X.shape : (26, 2)\n"
          ]
        }
      ]
    },
    {
      "cell_type": "code",
      "source": [
        "pd.DataFrame(X, y)    # forge() 데이터셋 원형 출력"
      ],
      "metadata": {
        "colab": {
          "base_uri": "https://localhost:8080/",
          "height": 865
        },
        "id": "-Vll58Fb3f1R",
        "outputId": "4b5573b1-b009-47a1-f522-d1cea42c4a3e"
      },
      "execution_count": null,
      "outputs": [
        {
          "output_type": "execute_result",
          "data": {
            "text/plain": [
              "           0         1\n",
              "1   9.963466  4.596765\n",
              "0  11.032954 -0.168167\n",
              "1  11.541558  5.211161\n",
              "0   8.692890  1.543220\n",
              "0   8.106227  4.286960\n",
              "1   8.309889  4.806240\n",
              "1  11.930271  4.648663\n",
              "0   9.672847 -0.202832\n",
              "1   8.348103  5.134156\n",
              "1   8.674947  4.475731\n",
              "1   9.177484  5.092832\n",
              "1  10.240289  2.455444\n",
              "0   8.689371  1.487096\n",
              "0   8.922295 -0.639932\n",
              "1   9.491235  4.332248\n",
              "1   9.256942  5.132849\n",
              "1   7.998153  4.852505\n",
              "0   8.183781  1.295642\n",
              "0   8.733709  2.491624\n",
              "1   9.322983  5.098406\n",
              "0  10.063938  0.990781\n",
              "0   9.500490 -0.264303\n",
              "0   8.344688  1.638243\n",
              "0   9.501693  1.938246\n",
              "1   9.150723  5.498322\n",
              "0  11.563957  1.338940"
            ],
            "text/html": [
              "\n",
              "  <div id=\"df-610b76b4-4878-4dad-8614-69844354841e\">\n",
              "    <div class=\"colab-df-container\">\n",
              "      <div>\n",
              "<style scoped>\n",
              "    .dataframe tbody tr th:only-of-type {\n",
              "        vertical-align: middle;\n",
              "    }\n",
              "\n",
              "    .dataframe tbody tr th {\n",
              "        vertical-align: top;\n",
              "    }\n",
              "\n",
              "    .dataframe thead th {\n",
              "        text-align: right;\n",
              "    }\n",
              "</style>\n",
              "<table border=\"1\" class=\"dataframe\">\n",
              "  <thead>\n",
              "    <tr style=\"text-align: right;\">\n",
              "      <th></th>\n",
              "      <th>0</th>\n",
              "      <th>1</th>\n",
              "    </tr>\n",
              "  </thead>\n",
              "  <tbody>\n",
              "    <tr>\n",
              "      <th>1</th>\n",
              "      <td>9.963466</td>\n",
              "      <td>4.596765</td>\n",
              "    </tr>\n",
              "    <tr>\n",
              "      <th>0</th>\n",
              "      <td>11.032954</td>\n",
              "      <td>-0.168167</td>\n",
              "    </tr>\n",
              "    <tr>\n",
              "      <th>1</th>\n",
              "      <td>11.541558</td>\n",
              "      <td>5.211161</td>\n",
              "    </tr>\n",
              "    <tr>\n",
              "      <th>0</th>\n",
              "      <td>8.692890</td>\n",
              "      <td>1.543220</td>\n",
              "    </tr>\n",
              "    <tr>\n",
              "      <th>0</th>\n",
              "      <td>8.106227</td>\n",
              "      <td>4.286960</td>\n",
              "    </tr>\n",
              "    <tr>\n",
              "      <th>1</th>\n",
              "      <td>8.309889</td>\n",
              "      <td>4.806240</td>\n",
              "    </tr>\n",
              "    <tr>\n",
              "      <th>1</th>\n",
              "      <td>11.930271</td>\n",
              "      <td>4.648663</td>\n",
              "    </tr>\n",
              "    <tr>\n",
              "      <th>0</th>\n",
              "      <td>9.672847</td>\n",
              "      <td>-0.202832</td>\n",
              "    </tr>\n",
              "    <tr>\n",
              "      <th>1</th>\n",
              "      <td>8.348103</td>\n",
              "      <td>5.134156</td>\n",
              "    </tr>\n",
              "    <tr>\n",
              "      <th>1</th>\n",
              "      <td>8.674947</td>\n",
              "      <td>4.475731</td>\n",
              "    </tr>\n",
              "    <tr>\n",
              "      <th>1</th>\n",
              "      <td>9.177484</td>\n",
              "      <td>5.092832</td>\n",
              "    </tr>\n",
              "    <tr>\n",
              "      <th>1</th>\n",
              "      <td>10.240289</td>\n",
              "      <td>2.455444</td>\n",
              "    </tr>\n",
              "    <tr>\n",
              "      <th>0</th>\n",
              "      <td>8.689371</td>\n",
              "      <td>1.487096</td>\n",
              "    </tr>\n",
              "    <tr>\n",
              "      <th>0</th>\n",
              "      <td>8.922295</td>\n",
              "      <td>-0.639932</td>\n",
              "    </tr>\n",
              "    <tr>\n",
              "      <th>1</th>\n",
              "      <td>9.491235</td>\n",
              "      <td>4.332248</td>\n",
              "    </tr>\n",
              "    <tr>\n",
              "      <th>1</th>\n",
              "      <td>9.256942</td>\n",
              "      <td>5.132849</td>\n",
              "    </tr>\n",
              "    <tr>\n",
              "      <th>1</th>\n",
              "      <td>7.998153</td>\n",
              "      <td>4.852505</td>\n",
              "    </tr>\n",
              "    <tr>\n",
              "      <th>0</th>\n",
              "      <td>8.183781</td>\n",
              "      <td>1.295642</td>\n",
              "    </tr>\n",
              "    <tr>\n",
              "      <th>0</th>\n",
              "      <td>8.733709</td>\n",
              "      <td>2.491624</td>\n",
              "    </tr>\n",
              "    <tr>\n",
              "      <th>1</th>\n",
              "      <td>9.322983</td>\n",
              "      <td>5.098406</td>\n",
              "    </tr>\n",
              "    <tr>\n",
              "      <th>0</th>\n",
              "      <td>10.063938</td>\n",
              "      <td>0.990781</td>\n",
              "    </tr>\n",
              "    <tr>\n",
              "      <th>0</th>\n",
              "      <td>9.500490</td>\n",
              "      <td>-0.264303</td>\n",
              "    </tr>\n",
              "    <tr>\n",
              "      <th>0</th>\n",
              "      <td>8.344688</td>\n",
              "      <td>1.638243</td>\n",
              "    </tr>\n",
              "    <tr>\n",
              "      <th>0</th>\n",
              "      <td>9.501693</td>\n",
              "      <td>1.938246</td>\n",
              "    </tr>\n",
              "    <tr>\n",
              "      <th>1</th>\n",
              "      <td>9.150723</td>\n",
              "      <td>5.498322</td>\n",
              "    </tr>\n",
              "    <tr>\n",
              "      <th>0</th>\n",
              "      <td>11.563957</td>\n",
              "      <td>1.338940</td>\n",
              "    </tr>\n",
              "  </tbody>\n",
              "</table>\n",
              "</div>\n",
              "      <button class=\"colab-df-convert\" onclick=\"convertToInteractive('df-610b76b4-4878-4dad-8614-69844354841e')\"\n",
              "              title=\"Convert this dataframe to an interactive table.\"\n",
              "              style=\"display:none;\">\n",
              "        \n",
              "  <svg xmlns=\"http://www.w3.org/2000/svg\" height=\"24px\"viewBox=\"0 0 24 24\"\n",
              "       width=\"24px\">\n",
              "    <path d=\"M0 0h24v24H0V0z\" fill=\"none\"/>\n",
              "    <path d=\"M18.56 5.44l.94 2.06.94-2.06 2.06-.94-2.06-.94-.94-2.06-.94 2.06-2.06.94zm-11 1L8.5 8.5l.94-2.06 2.06-.94-2.06-.94L8.5 2.5l-.94 2.06-2.06.94zm10 10l.94 2.06.94-2.06 2.06-.94-2.06-.94-.94-2.06-.94 2.06-2.06.94z\"/><path d=\"M17.41 7.96l-1.37-1.37c-.4-.4-.92-.59-1.43-.59-.52 0-1.04.2-1.43.59L10.3 9.45l-7.72 7.72c-.78.78-.78 2.05 0 2.83L4 21.41c.39.39.9.59 1.41.59.51 0 1.02-.2 1.41-.59l7.78-7.78 2.81-2.81c.8-.78.8-2.07 0-2.86zM5.41 20L4 18.59l7.72-7.72 1.47 1.35L5.41 20z\"/>\n",
              "  </svg>\n",
              "      </button>\n",
              "      \n",
              "  <style>\n",
              "    .colab-df-container {\n",
              "      display:flex;\n",
              "      flex-wrap:wrap;\n",
              "      gap: 12px;\n",
              "    }\n",
              "\n",
              "    .colab-df-convert {\n",
              "      background-color: #E8F0FE;\n",
              "      border: none;\n",
              "      border-radius: 50%;\n",
              "      cursor: pointer;\n",
              "      display: none;\n",
              "      fill: #1967D2;\n",
              "      height: 32px;\n",
              "      padding: 0 0 0 0;\n",
              "      width: 32px;\n",
              "    }\n",
              "\n",
              "    .colab-df-convert:hover {\n",
              "      background-color: #E2EBFA;\n",
              "      box-shadow: 0px 1px 2px rgba(60, 64, 67, 0.3), 0px 1px 3px 1px rgba(60, 64, 67, 0.15);\n",
              "      fill: #174EA6;\n",
              "    }\n",
              "\n",
              "    [theme=dark] .colab-df-convert {\n",
              "      background-color: #3B4455;\n",
              "      fill: #D2E3FC;\n",
              "    }\n",
              "\n",
              "    [theme=dark] .colab-df-convert:hover {\n",
              "      background-color: #434B5C;\n",
              "      box-shadow: 0px 1px 3px 1px rgba(0, 0, 0, 0.15);\n",
              "      filter: drop-shadow(0px 1px 2px rgba(0, 0, 0, 0.3));\n",
              "      fill: #FFFFFF;\n",
              "    }\n",
              "  </style>\n",
              "\n",
              "      <script>\n",
              "        const buttonEl =\n",
              "          document.querySelector('#df-610b76b4-4878-4dad-8614-69844354841e button.colab-df-convert');\n",
              "        buttonEl.style.display =\n",
              "          google.colab.kernel.accessAllowed ? 'block' : 'none';\n",
              "\n",
              "        async function convertToInteractive(key) {\n",
              "          const element = document.querySelector('#df-610b76b4-4878-4dad-8614-69844354841e');\n",
              "          const dataTable =\n",
              "            await google.colab.kernel.invokeFunction('convertToInteractive',\n",
              "                                                     [key], {});\n",
              "          if (!dataTable) return;\n",
              "\n",
              "          const docLinkHtml = 'Like what you see? Visit the ' +\n",
              "            '<a target=\"_blank\" href=https://colab.research.google.com/notebooks/data_table.ipynb>data table notebook</a>'\n",
              "            + ' to learn more about interactive tables.';\n",
              "          element.innerHTML = '';\n",
              "          dataTable['output_type'] = 'display_data';\n",
              "          await google.colab.output.renderOutput(dataTable, element);\n",
              "          const docLink = document.createElement('div');\n",
              "          docLink.innerHTML = docLinkHtml;\n",
              "          element.appendChild(docLink);\n",
              "        }\n",
              "      </script>\n",
              "    </div>\n",
              "  </div>\n",
              "  "
            ]
          },
          "metadata": {},
          "execution_count": 3
        }
      ]
    },
    {
      "cell_type": "markdown",
      "source": [
        "**저차원데이터셋 만들기(회귀)**"
      ],
      "metadata": {
        "id": "1NOlcSDsMMWB"
      }
    },
    {
      "cell_type": "code",
      "source": [
        "X, y = mglearn.datasets.make_wave(n_samples=40)     # mglearn 내장 회귀 데이터셋 호출\n",
        "plt.scatter(X, y, marker = 'o')   # 특성 X와 타겟 y에 대해 산점도 생성\n",
        "plt.ylim(-3, 3)   # y축 scale 설정\n",
        "plt.xlabel(\"Feature\")\n",
        "plt.ylabel(\"Target\")\n",
        "plt.show()\n",
        "print(\"X.shape : {}\".format(X.shape))   # 데이터수 40 / 특성이 1임을 알 수 있다."
      ],
      "metadata": {
        "colab": {
          "base_uri": "https://localhost:8080/",
          "height": 301
        },
        "id": "ovLl1qmj9GNM",
        "outputId": "d881e30e-3c0c-4d6c-da48-138a2df68a3a"
      },
      "execution_count": null,
      "outputs": [
        {
          "output_type": "display_data",
          "data": {
            "text/plain": [
              "<Figure size 432x288 with 1 Axes>"
            ],
            "image/png": "[encoded data removed]"
          },
          "metadata": {
            "needs_background": "light"
          }
        },
        {
          "output_type": "stream",
          "name": "stdout",
          "text": [
            "X.shape : (40, 1)\n"
          ]
        }
      ]
    },
    {
      "cell_type": "markdown",
      "source": [
        "**고차원데이터셋 만들기(이진분류)**"
      ],
      "metadata": {
        "id": "lYCHOAs_Lz3L"
      }
    },
    {
      "cell_type": "code",
      "source": [
        "from sklearn.datasets import load_breast_cancer  # 사이킷런에 내장된 위스콘신 유방암 데이터셋 호출 (대표적인 이진분류 데이터셋)\n",
        "cancer = load_breast_cancer()\n",
        "\n",
        "print(\"cancer.keys():\\n{}\".format(cancer.keys())) # Bunch 데이터 내 키 값을 호출"
      ],
      "metadata": {
        "colab": {
          "base_uri": "https://localhost:8080/"
        },
        "id": "6VUdyUWq6nob",
        "outputId": "27cdb6ab-ea38-42b5-8025-9a5805df7fbe"
      },
      "execution_count": null,
      "outputs": [
        {
          "output_type": "stream",
          "name": "stdout",
          "text": [
            "cancer.keys():\n",
            "dict_keys(['data', 'target', 'frame', 'target_names', 'DESCR', 'feature_names', 'filename', 'data_module'])\n"
          ]
        }
      ]
    },
    {
      "cell_type": "markdown",
      "source": [
        "DESCR : 데이터에 대한 총괄적인 설명\n",
        "\n",
        "data : 독립 변수의 ndarray(배열)\n",
        "\n",
        "target : 종속 변수의 ndarray(배열)\n",
        "\n",
        "feature_names : 독립 변수의 이름(컬럼)\n",
        "\n",
        "target_names ​: 종속 변수의 이름 리스트(값에 해당되는 항목)\n",
        "\n",
        "filename : 파일명(데이터의)\n",
        "[출처] Python. sklearn의_데이터_세트|작성자 sjgh1122"
      ],
      "metadata": {
        "id": "_RTa_ZoaJTJh"
      }
    },
    {
      "cell_type": "code",
      "source": [
        "type(cancer)"
      ],
      "metadata": {
        "colab": {
          "base_uri": "https://localhost:8080/"
        },
        "id": "DCOWiFFwANoM",
        "outputId": "409fe4b9-d3db-402b-bc58-d8c721562b4d"
      },
      "execution_count": null,
      "outputs": [
        {
          "output_type": "execute_result",
          "data": {
            "text/plain": [
              "sklearn.utils.Bunch"
            ]
          },
          "metadata": {},
          "execution_count": 6
        }
      ]
    },
    {
      "cell_type": "code",
      "source": [
        "print(\"유방암 데이터의 형태: {}\".format(cancer.data.shape))"
      ],
      "metadata": {
        "colab": {
          "base_uri": "https://localhost:8080/"
        },
        "id": "qZ31oqZZDfc9",
        "outputId": "db68f60a-ade3-4cd0-ec01-7fd56bdd9583"
      },
      "execution_count": null,
      "outputs": [
        {
          "output_type": "stream",
          "name": "stdout",
          "text": [
            "유방암 데이터의 형태: (569, 30)\n"
          ]
        }
      ]
    },
    {
      "cell_type": "code",
      "source": [
        "cancer_df = pd.DataFrame(data = cancer.data, columns = cancer.feature_names) # 데이터와 특성을 데이터프레임으로 간략히 보기\n",
        "cancer_df.head()"
      ],
      "metadata": {
        "colab": {
          "base_uri": "https://localhost:8080/",
          "height": 314
        },
        "id": "FKBzmhy_IlL1",
        "outputId": "3d08e4f6-e843-4fa9-b388-f82351dd57b8"
      },
      "execution_count": null,
      "outputs": [
        {
          "output_type": "execute_result",
          "data": {
            "text/plain": [
              "   mean radius  mean texture  mean perimeter  mean area  mean smoothness  \\\n",
              "0        17.99         10.38          122.80     1001.0          0.11840   \n",
              "1        20.57         17.77          132.90     1326.0          0.08474   \n",
              "2        19.69         21.25          130.00     1203.0          0.10960   \n",
              "3        11.42         20.38           77.58      386.1          0.14250   \n",
              "4        20.29         14.34          135.10     1297.0          0.10030   \n",
              "\n",
              "   mean compactness  mean concavity  mean concave points  mean symmetry  \\\n",
              "0           0.27760          0.3001              0.14710         0.2419   \n",
              "1           0.07864          0.0869              0.07017         0.1812   \n",
              "2           0.15990          0.1974              0.12790         0.2069   \n",
              "3           0.28390          0.2414              0.10520         0.2597   \n",
              "4           0.13280          0.1980              0.10430         0.1809   \n",
              "\n",
              "   mean fractal dimension  ...  worst radius  worst texture  worst perimeter  \\\n",
              "0                 0.07871  ...         25.38          17.33           184.60   \n",
              "1                 0.05667  ...         24.99          23.41           158.80   \n",
              "2                 0.05999  ...         23.57          25.53           152.50   \n",
              "3                 0.09744  ...         14.91          26.50            98.87   \n",
              "4                 0.05883  ...         22.54          16.67           152.20   \n",
              "\n",
              "   worst area  worst smoothness  worst compactness  worst concavity  \\\n",
              "0      2019.0            0.1622             0.6656           0.7119   \n",
              "1      1956.0            0.1238             0.1866           0.2416   \n",
              "2      1709.0            0.1444             0.4245           0.4504   \n",
              "3       567.7            0.2098             0.8663           0.6869   \n",
              "4      1575.0            0.1374             0.2050           0.4000   \n",
              "\n",
              "   worst concave points  worst symmetry  worst fractal dimension  \n",
              "0                0.2654          0.4601                  0.11890  \n",
              "1                0.1860          0.2750                  0.08902  \n",
              "2                0.2430          0.3613                  0.08758  \n",
              "3                0.2575          0.6638                  0.17300  \n",
              "4                0.1625          0.2364                  0.07678  \n",
              "\n",
              "[5 rows x 30 columns]"
            ],
            "text/html": [
              "\n",
              "  <div id=\"df-5f84e906-3881-4d0b-8026-18f8371e92ae\">\n",
              "    <div class=\"colab-df-container\">\n",
              "      <div>\n",
              "<style scoped>\n",
              "    .dataframe tbody tr th:only-of-type {\n",
              "        vertical-align: middle;\n",
              "    }\n",
              "\n",
              "    .dataframe tbody tr th {\n",
              "        vertical-align: top;\n",
              "    }\n",
              "\n",
              "    .dataframe thead th {\n",
              "        text-align: right;\n",
              "    }\n",
              "</style>\n",
              "<table border=\"1\" class=\"dataframe\">\n",
              "  <thead>\n",
              "    <tr style=\"text-align: right;\">\n",
              "      <th></th>\n",
              "      <th>mean radius</th>\n",
              "      <th>mean texture</th>\n",
              "      <th>mean perimeter</th>\n",
              "      <th>mean area</th>\n",
              "      <th>mean smoothness</th>\n",
              "      <th>mean compactness</th>\n",
              "      <th>mean concavity</th>\n",
              "      <th>mean concave points</th>\n",
              "      <th>mean symmetry</th>\n",
              "      <th>mean fractal dimension</th>\n",
              "      <th>...</th>\n",
              "      <th>worst radius</th>\n",
              "      <th>worst texture</th>\n",
              "      <th>worst perimeter</th>\n",
              "      <th>worst area</th>\n",
              "      <th>worst smoothness</th>\n",
              "      <th>worst compactness</th>\n",
              "      <th>worst concavity</th>\n",
              "      <th>worst concave points</th>\n",
              "      <th>worst symmetry</th>\n",
              "      <th>worst fractal dimension</th>\n",
              "    </tr>\n",
              "  </thead>\n",
              "  <tbody>\n",
              "    <tr>\n",
              "      <th>0</th>\n",
              "      <td>17.99</td>\n",
              "      <td>10.38</td>\n",
              "      <td>122.80</td>\n",
              "      <td>1001.0</td>\n",
              "      <td>0.11840</td>\n",
              "      <td>0.27760</td>\n",
              "      <td>0.3001</td>\n",
              "      <td>0.14710</td>\n",
              "      <td>0.2419</td>\n",
              "      <td>0.07871</td>\n",
              "      <td>...</td>\n",
              "      <td>25.38</td>\n",
              "      <td>17.33</td>\n",
              "      <td>184.60</td>\n",
              "      <td>2019.0</td>\n",
              "      <td>0.1622</td>\n",
              "      <td>0.6656</td>\n",
              "      <td>0.7119</td>\n",
              "      <td>0.2654</td>\n",
              "      <td>0.4601</td>\n",
              "      <td>0.11890</td>\n",
              "    </tr>\n",
              "    <tr>\n",
              "      <th>1</th>\n",
              "      <td>20.57</td>\n",
              "      <td>17.77</td>\n",
              "      <td>132.90</td>\n",
              "      <td>1326.0</td>\n",
              "      <td>0.08474</td>\n",
              "      <td>0.07864</td>\n",
              "      <td>0.0869</td>\n",
              "      <td>0.07017</td>\n",
              "      <td>0.1812</td>\n",
              "      <td>0.05667</td>\n",
              "      <td>...</td>\n",
              "      <td>24.99</td>\n",
              "      <td>23.41</td>\n",
              "      <td>158.80</td>\n",
              "      <td>1956.0</td>\n",
              "      <td>0.1238</td>\n",
              "      <td>0.1866</td>\n",
              "      <td>0.2416</td>\n",
              "      <td>0.1860</td>\n",
              "      <td>0.2750</td>\n",
              "      <td>0.08902</td>\n",
              "    </tr>\n",
              "    <tr>\n",
              "      <th>2</th>\n",
              "      <td>19.69</td>\n",
              "      <td>21.25</td>\n",
              "      <td>130.00</td>\n",
              "      <td>1203.0</td>\n",
              "      <td>0.10960</td>\n",
              "      <td>0.15990</td>\n",
              "      <td>0.1974</td>\n",
              "      <td>0.12790</td>\n",
              "      <td>0.2069</td>\n",
              "      <td>0.05999</td>\n",
              "      <td>...</td>\n",
              "      <td>23.57</td>\n",
              "      <td>25.53</td>\n",
              "      <td>152.50</td>\n",
              "      <td>1709.0</td>\n",
              "      <td>0.1444</td>\n",
              "      <td>0.4245</td>\n",
              "      <td>0.4504</td>\n",
              "      <td>0.2430</td>\n",
              "      <td>0.3613</td>\n",
              "      <td>0.08758</td>\n",
              "    </tr>\n",
              "    <tr>\n",
              "      <th>3</th>\n",
              "      <td>11.42</td>\n",
              "      <td>20.38</td>\n",
              "      <td>77.58</td>\n",
              "      <td>386.1</td>\n",
              "      <td>0.14250</td>\n",
              "      <td>0.28390</td>\n",
              "      <td>0.2414</td>\n",
              "      <td>0.10520</td>\n",
              "      <td>0.2597</td>\n",
              "      <td>0.09744</td>\n",
              "      <td>...</td>\n",
              "      <td>14.91</td>\n",
              "      <td>26.50</td>\n",
              "      <td>98.87</td>\n",
              "      <td>567.7</td>\n",
              "      <td>0.2098</td>\n",
              "      <td>0.8663</td>\n",
              "      <td>0.6869</td>\n",
              "      <td>0.2575</td>\n",
              "      <td>0.6638</td>\n",
              "      <td>0.17300</td>\n",
              "    </tr>\n",
              "    <tr>\n",
              "      <th>4</th>\n",
              "      <td>20.29</td>\n",
              "      <td>14.34</td>\n",
              "      <td>135.10</td>\n",
              "      <td>1297.0</td>\n",
              "      <td>0.10030</td>\n",
              "      <td>0.13280</td>\n",
              "      <td>0.1980</td>\n",
              "      <td>0.10430</td>\n",
              "      <td>0.1809</td>\n",
              "      <td>0.05883</td>\n",
              "      <td>...</td>\n",
              "      <td>22.54</td>\n",
              "      <td>16.67</td>\n",
              "      <td>152.20</td>\n",
              "      <td>1575.0</td>\n",
              "      <td>0.1374</td>\n",
              "      <td>0.2050</td>\n",
              "      <td>0.4000</td>\n",
              "      <td>0.1625</td>\n",
              "      <td>0.2364</td>\n",
              "      <td>0.07678</td>\n",
              "    </tr>\n",
              "  </tbody>\n",
              "</table>\n",
              "<p>5 rows × 30 columns</p>\n",
              "</div>\n",
              "      <button class=\"colab-df-convert\" onclick=\"convertToInteractive('df-5f84e906-3881-4d0b-8026-18f8371e92ae')\"\n",
              "              title=\"Convert this dataframe to an interactive table.\"\n",
              "              style=\"display:none;\">\n",
              "        \n",
              "  <svg xmlns=\"http://www.w3.org/2000/svg\" height=\"24px\"viewBox=\"0 0 24 24\"\n",
              "       width=\"24px\">\n",
              "    <path d=\"M0 0h24v24H0V0z\" fill=\"none\"/>\n",
              "    <path d=\"M18.56 5.44l.94 2.06.94-2.06 2.06-.94-2.06-.94-.94-2.06-.94 2.06-2.06.94zm-11 1L8.5 8.5l.94-2.06 2.06-.94-2.06-.94L8.5 2.5l-.94 2.06-2.06.94zm10 10l.94 2.06.94-2.06 2.06-.94-2.06-.94-.94-2.06-.94 2.06-2.06.94z\"/><path d=\"M17.41 7.96l-1.37-1.37c-.4-.4-.92-.59-1.43-.59-.52 0-1.04.2-1.43.59L10.3 9.45l-7.72 7.72c-.78.78-.78 2.05 0 2.83L4 21.41c.39.39.9.59 1.41.59.51 0 1.02-.2 1.41-.59l7.78-7.78 2.81-2.81c.8-.78.8-2.07 0-2.86zM5.41 20L4 18.59l7.72-7.72 1.47 1.35L5.41 20z\"/>\n",
              "  </svg>\n",
              "      </button>\n",
              "      \n",
              "  <style>\n",
              "    .colab-df-container {\n",
              "      display:flex;\n",
              "      flex-wrap:wrap;\n",
              "      gap: 12px;\n",
              "    }\n",
              "\n",
              "    .colab-df-convert {\n",
              "      background-color: #E8F0FE;\n",
              "      border: none;\n",
              "      border-radius: 50%;\n",
              "      cursor: pointer;\n",
              "      display: none;\n",
              "      fill: #1967D2;\n",
              "      height: 32px;\n",
              "      padding: 0 0 0 0;\n",
              "      width: 32px;\n",
              "    }\n",
              "\n",
              "    .colab-df-convert:hover {\n",
              "      background-color: #E2EBFA;\n",
              "      box-shadow: 0px 1px 2px rgba(60, 64, 67, 0.3), 0px 1px 3px 1px rgba(60, 64, 67, 0.15);\n",
              "      fill: #174EA6;\n",
              "    }\n",
              "\n",
              "    [theme=dark] .colab-df-convert {\n",
              "      background-color: #3B4455;\n",
              "      fill: #D2E3FC;\n",
              "    }\n",
              "\n",
              "    [theme=dark] .colab-df-convert:hover {\n",
              "      background-color: #434B5C;\n",
              "      box-shadow: 0px 1px 3px 1px rgba(0, 0, 0, 0.15);\n",
              "      filter: drop-shadow(0px 1px 2px rgba(0, 0, 0, 0.3));\n",
              "      fill: #FFFFFF;\n",
              "    }\n",
              "  </style>\n",
              "\n",
              "      <script>\n",
              "        const buttonEl =\n",
              "          document.querySelector('#df-5f84e906-3881-4d0b-8026-18f8371e92ae button.colab-df-convert');\n",
              "        buttonEl.style.display =\n",
              "          google.colab.kernel.accessAllowed ? 'block' : 'none';\n",
              "\n",
              "        async function convertToInteractive(key) {\n",
              "          const element = document.querySelector('#df-5f84e906-3881-4d0b-8026-18f8371e92ae');\n",
              "          const dataTable =\n",
              "            await google.colab.kernel.invokeFunction('convertToInteractive',\n",
              "                                                     [key], {});\n",
              "          if (!dataTable) return;\n",
              "\n",
              "          const docLinkHtml = 'Like what you see? Visit the ' +\n",
              "            '<a target=\"_blank\" href=https://colab.research.google.com/notebooks/data_table.ipynb>data table notebook</a>'\n",
              "            + ' to learn more about interactive tables.';\n",
              "          element.innerHTML = '';\n",
              "          dataTable['output_type'] = 'display_data';\n",
              "          await google.colab.output.renderOutput(dataTable, element);\n",
              "          const docLink = document.createElement('div');\n",
              "          docLink.innerHTML = docLinkHtml;\n",
              "          element.appendChild(docLink);\n",
              "        }\n",
              "      </script>\n",
              "    </div>\n",
              "  </div>\n",
              "  "
            ]
          },
          "metadata": {},
          "execution_count": 8
        }
      ]
    },
    {
      "cell_type": "code",
      "source": [
        "print(\"클래스별 샘플 갯수:\\n\",      \n",
        "      {n: v for n, v in zip(cancer.target_names, np.bincount(cancer.target))})      # 클래스별 의미와 샘플 갯수 파악하기 (malignant : 악성, benign : 양성)"
      ],
      "metadata": {
        "colab": {
          "base_uri": "https://localhost:8080/"
        },
        "id": "WXkaqHw2JkTb",
        "outputId": "fc4876af-dca2-44d1-cabc-dfbeec0e62e0"
      },
      "execution_count": null,
      "outputs": [
        {
          "output_type": "stream",
          "name": "stdout",
          "text": [
            "클래스별 샘플 갯수:\n",
            " {'malignant': 212, 'benign': 357}\n"
          ]
        }
      ]
    },
    {
      "cell_type": "code",
      "source": [
        "target_df = pd.DataFrame(cancer.target_names)   # 즉 0은 악성을 나타내며, 1은 양성을 나타내는 것을 알 수 있습니다!\n",
        "target_df "
      ],
      "metadata": {
        "colab": {
          "base_uri": "https://localhost:8080/",
          "height": 112
        },
        "id": "qfXROaOsLU3l",
        "outputId": "e5caa25a-1eda-45aa-e85c-32e4dbeeece2"
      },
      "execution_count": null,
      "outputs": [
        {
          "output_type": "execute_result",
          "data": {
            "text/plain": [
              "           0\n",
              "0  malignant\n",
              "1     benign"
            ],
            "text/html": [
              "\n",
              "  <div id=\"df-ab8ead5f-a55a-41f5-ad4d-be8d1f7b8001\">\n",
              "    <div class=\"colab-df-container\">\n",
              "      <div>\n",
              "<style scoped>\n",
              "    .dataframe tbody tr th:only-of-type {\n",
              "        vertical-align: middle;\n",
              "    }\n",
              "\n",
              "    .dataframe tbody tr th {\n",
              "        vertical-align: top;\n",
              "    }\n",
              "\n",
              "    .dataframe thead th {\n",
              "        text-align: right;\n",
              "    }\n",
              "</style>\n",
              "<table border=\"1\" class=\"dataframe\">\n",
              "  <thead>\n",
              "    <tr style=\"text-align: right;\">\n",
              "      <th></th>\n",
              "      <th>0</th>\n",
              "    </tr>\n",
              "  </thead>\n",
              "  <tbody>\n",
              "    <tr>\n",
              "      <th>0</th>\n",
              "      <td>malignant</td>\n",
              "    </tr>\n",
              "    <tr>\n",
              "      <th>1</th>\n",
              "      <td>benign</td>\n",
              "    </tr>\n",
              "  </tbody>\n",
              "</table>\n",
              "</div>\n",
              "      <button class=\"colab-df-convert\" onclick=\"convertToInteractive('df-ab8ead5f-a55a-41f5-ad4d-be8d1f7b8001')\"\n",
              "              title=\"Convert this dataframe to an interactive table.\"\n",
              "              style=\"display:none;\">\n",
              "        \n",
              "  <svg xmlns=\"http://www.w3.org/2000/svg\" height=\"24px\"viewBox=\"0 0 24 24\"\n",
              "       width=\"24px\">\n",
              "    <path d=\"M0 0h24v24H0V0z\" fill=\"none\"/>\n",
              "    <path d=\"M18.56 5.44l.94 2.06.94-2.06 2.06-.94-2.06-.94-.94-2.06-.94 2.06-2.06.94zm-11 1L8.5 8.5l.94-2.06 2.06-.94-2.06-.94L8.5 2.5l-.94 2.06-2.06.94zm10 10l.94 2.06.94-2.06 2.06-.94-2.06-.94-.94-2.06-.94 2.06-2.06.94z\"/><path d=\"M17.41 7.96l-1.37-1.37c-.4-.4-.92-.59-1.43-.59-.52 0-1.04.2-1.43.59L10.3 9.45l-7.72 7.72c-.78.78-.78 2.05 0 2.83L4 21.41c.39.39.9.59 1.41.59.51 0 1.02-.2 1.41-.59l7.78-7.78 2.81-2.81c.8-.78.8-2.07 0-2.86zM5.41 20L4 18.59l7.72-7.72 1.47 1.35L5.41 20z\"/>\n",
              "  </svg>\n",
              "      </button>\n",
              "      \n",
              "  <style>\n",
              "    .colab-df-container {\n",
              "      display:flex;\n",
              "      flex-wrap:wrap;\n",
              "      gap: 12px;\n",
              "    }\n",
              "\n",
              "    .colab-df-convert {\n",
              "      background-color: #E8F0FE;\n",
              "      border: none;\n",
              "      border-radius: 50%;\n",
              "      cursor: pointer;\n",
              "      display: none;\n",
              "      fill: #1967D2;\n",
              "      height: 32px;\n",
              "      padding: 0 0 0 0;\n",
              "      width: 32px;\n",
              "    }\n",
              "\n",
              "    .colab-df-convert:hover {\n",
              "      background-color: #E2EBFA;\n",
              "      box-shadow: 0px 1px 2px rgba(60, 64, 67, 0.3), 0px 1px 3px 1px rgba(60, 64, 67, 0.15);\n",
              "      fill: #174EA6;\n",
              "    }\n",
              "\n",
              "    [theme=dark] .colab-df-convert {\n",
              "      background-color: #3B4455;\n",
              "      fill: #D2E3FC;\n",
              "    }\n",
              "\n",
              "    [theme=dark] .colab-df-convert:hover {\n",
              "      background-color: #434B5C;\n",
              "      box-shadow: 0px 1px 3px 1px rgba(0, 0, 0, 0.15);\n",
              "      filter: drop-shadow(0px 1px 2px rgba(0, 0, 0, 0.3));\n",
              "      fill: #FFFFFF;\n",
              "    }\n",
              "  </style>\n",
              "\n",
              "      <script>\n",
              "        const buttonEl =\n",
              "          document.querySelector('#df-ab8ead5f-a55a-41f5-ad4d-be8d1f7b8001 button.colab-df-convert');\n",
              "        buttonEl.style.display =\n",
              "          google.colab.kernel.accessAllowed ? 'block' : 'none';\n",
              "\n",
              "        async function convertToInteractive(key) {\n",
              "          const element = document.querySelector('#df-ab8ead5f-a55a-41f5-ad4d-be8d1f7b8001');\n",
              "          const dataTable =\n",
              "            await google.colab.kernel.invokeFunction('convertToInteractive',\n",
              "                                                     [key], {});\n",
              "          if (!dataTable) return;\n",
              "\n",
              "          const docLinkHtml = 'Like what you see? Visit the ' +\n",
              "            '<a target=\"_blank\" href=https://colab.research.google.com/notebooks/data_table.ipynb>data table notebook</a>'\n",
              "            + ' to learn more about interactive tables.';\n",
              "          element.innerHTML = '';\n",
              "          dataTable['output_type'] = 'display_data';\n",
              "          await google.colab.output.renderOutput(dataTable, element);\n",
              "          const docLink = document.createElement('div');\n",
              "          docLink.innerHTML = docLinkHtml;\n",
              "          element.appendChild(docLink);\n",
              "        }\n",
              "      </script>\n",
              "    </div>\n",
              "  </div>\n",
              "  "
            ]
          },
          "metadata": {},
          "execution_count": 10
        }
      ]
    },
    {
      "cell_type": "code",
      "source": [
        "target_df = pd.DataFrame(cancer.target)       # 데이터프레임 형태로 보면 0과 1로 타겟 데이터가 구성되어 있군요... 즉 악성인 0이 212개가 있고 양성인 1은 357개가 있을겁니다...\n",
        "target_df"
      ],
      "metadata": {
        "colab": {
          "base_uri": "https://localhost:8080/",
          "height": 424
        },
        "id": "_Yb8CjfXKP6Y",
        "outputId": "c4ea4457-f4e1-4434-cc42-9a845ac86715"
      },
      "execution_count": null,
      "outputs": [
        {
          "output_type": "execute_result",
          "data": {
            "text/plain": [
              "     0\n",
              "0    0\n",
              "1    0\n",
              "2    0\n",
              "3    0\n",
              "4    0\n",
              "..  ..\n",
              "564  0\n",
              "565  0\n",
              "566  0\n",
              "567  0\n",
              "568  1\n",
              "\n",
              "[569 rows x 1 columns]"
            ],
            "text/html": [
              "\n",
              "  <div id=\"df-0fd432de-63a8-4fcf-a74a-c34cc5c725bc\">\n",
              "    <div class=\"colab-df-container\">\n",
              "      <div>\n",
              "<style scoped>\n",
              "    .dataframe tbody tr th:only-of-type {\n",
              "        vertical-align: middle;\n",
              "    }\n",
              "\n",
              "    .dataframe tbody tr th {\n",
              "        vertical-align: top;\n",
              "    }\n",
              "\n",
              "    .dataframe thead th {\n",
              "        text-align: right;\n",
              "    }\n",
              "</style>\n",
              "<table border=\"1\" class=\"dataframe\">\n",
              "  <thead>\n",
              "    <tr style=\"text-align: right;\">\n",
              "      <th></th>\n",
              "      <th>0</th>\n",
              "    </tr>\n",
              "  </thead>\n",
              "  <tbody>\n",
              "    <tr>\n",
              "      <th>0</th>\n",
              "      <td>0</td>\n",
              "    </tr>\n",
              "    <tr>\n",
              "      <th>1</th>\n",
              "      <td>0</td>\n",
              "    </tr>\n",
              "    <tr>\n",
              "      <th>2</th>\n",
              "      <td>0</td>\n",
              "    </tr>\n",
              "    <tr>\n",
              "      <th>3</th>\n",
              "      <td>0</td>\n",
              "    </tr>\n",
              "    <tr>\n",
              "      <th>4</th>\n",
              "      <td>0</td>\n",
              "    </tr>\n",
              "    <tr>\n",
              "      <th>...</th>\n",
              "      <td>...</td>\n",
              "    </tr>\n",
              "    <tr>\n",
              "      <th>564</th>\n",
              "      <td>0</td>\n",
              "    </tr>\n",
              "    <tr>\n",
              "      <th>565</th>\n",
              "      <td>0</td>\n",
              "    </tr>\n",
              "    <tr>\n",
              "      <th>566</th>\n",
              "      <td>0</td>\n",
              "    </tr>\n",
              "    <tr>\n",
              "      <th>567</th>\n",
              "      <td>0</td>\n",
              "    </tr>\n",
              "    <tr>\n",
              "      <th>568</th>\n",
              "      <td>1</td>\n",
              "    </tr>\n",
              "  </tbody>\n",
              "</table>\n",
              "<p>569 rows × 1 columns</p>\n",
              "</div>\n",
              "      <button class=\"colab-df-convert\" onclick=\"convertToInteractive('df-0fd432de-63a8-4fcf-a74a-c34cc5c725bc')\"\n",
              "              title=\"Convert this dataframe to an interactive table.\"\n",
              "              style=\"display:none;\">\n",
              "        \n",
              "  <svg xmlns=\"http://www.w3.org/2000/svg\" height=\"24px\"viewBox=\"0 0 24 24\"\n",
              "       width=\"24px\">\n",
              "    <path d=\"M0 0h24v24H0V0z\" fill=\"none\"/>\n",
              "    <path d=\"M18.56 5.44l.94 2.06.94-2.06 2.06-.94-2.06-.94-.94-2.06-.94 2.06-2.06.94zm-11 1L8.5 8.5l.94-2.06 2.06-.94-2.06-.94L8.5 2.5l-.94 2.06-2.06.94zm10 10l.94 2.06.94-2.06 2.06-.94-2.06-.94-.94-2.06-.94 2.06-2.06.94z\"/><path d=\"M17.41 7.96l-1.37-1.37c-.4-.4-.92-.59-1.43-.59-.52 0-1.04.2-1.43.59L10.3 9.45l-7.72 7.72c-.78.78-.78 2.05 0 2.83L4 21.41c.39.39.9.59 1.41.59.51 0 1.02-.2 1.41-.59l7.78-7.78 2.81-2.81c.8-.78.8-2.07 0-2.86zM5.41 20L4 18.59l7.72-7.72 1.47 1.35L5.41 20z\"/>\n",
              "  </svg>\n",
              "      </button>\n",
              "      \n",
              "  <style>\n",
              "    .colab-df-container {\n",
              "      display:flex;\n",
              "      flex-wrap:wrap;\n",
              "      gap: 12px;\n",
              "    }\n",
              "\n",
              "    .colab-df-convert {\n",
              "      background-color: #E8F0FE;\n",
              "      border: none;\n",
              "      border-radius: 50%;\n",
              "      cursor: pointer;\n",
              "      display: none;\n",
              "      fill: #1967D2;\n",
              "      height: 32px;\n",
              "      padding: 0 0 0 0;\n",
              "      width: 32px;\n",
              "    }\n",
              "\n",
              "    .colab-df-convert:hover {\n",
              "      background-color: #E2EBFA;\n",
              "      box-shadow: 0px 1px 2px rgba(60, 64, 67, 0.3), 0px 1px 3px 1px rgba(60, 64, 67, 0.15);\n",
              "      fill: #174EA6;\n",
              "    }\n",
              "\n",
              "    [theme=dark] .colab-df-convert {\n",
              "      background-color: #3B4455;\n",
              "      fill: #D2E3FC;\n",
              "    }\n",
              "\n",
              "    [theme=dark] .colab-df-convert:hover {\n",
              "      background-color: #434B5C;\n",
              "      box-shadow: 0px 1px 3px 1px rgba(0, 0, 0, 0.15);\n",
              "      filter: drop-shadow(0px 1px 2px rgba(0, 0, 0, 0.3));\n",
              "      fill: #FFFFFF;\n",
              "    }\n",
              "  </style>\n",
              "\n",
              "      <script>\n",
              "        const buttonEl =\n",
              "          document.querySelector('#df-0fd432de-63a8-4fcf-a74a-c34cc5c725bc button.colab-df-convert');\n",
              "        buttonEl.style.display =\n",
              "          google.colab.kernel.accessAllowed ? 'block' : 'none';\n",
              "\n",
              "        async function convertToInteractive(key) {\n",
              "          const element = document.querySelector('#df-0fd432de-63a8-4fcf-a74a-c34cc5c725bc');\n",
              "          const dataTable =\n",
              "            await google.colab.kernel.invokeFunction('convertToInteractive',\n",
              "                                                     [key], {});\n",
              "          if (!dataTable) return;\n",
              "\n",
              "          const docLinkHtml = 'Like what you see? Visit the ' +\n",
              "            '<a target=\"_blank\" href=https://colab.research.google.com/notebooks/data_table.ipynb>data table notebook</a>'\n",
              "            + ' to learn more about interactive tables.';\n",
              "          element.innerHTML = '';\n",
              "          dataTable['output_type'] = 'display_data';\n",
              "          await google.colab.output.renderOutput(dataTable, element);\n",
              "          const docLink = document.createElement('div');\n",
              "          docLink.innerHTML = docLinkHtml;\n",
              "          element.appendChild(docLink);\n",
              "        }\n",
              "      </script>\n",
              "    </div>\n",
              "  </div>\n",
              "  "
            ]
          },
          "metadata": {},
          "execution_count": 11
        }
      ]
    },
    {
      "cell_type": "markdown",
      "source": [
        "**고차원데이터셋 만들기(회귀)**"
      ],
      "metadata": {
        "id": "luB4X1LmMRjc"
      }
    },
    {
      "cell_type": "code",
      "source": [
        "import warnings # 보스턴 주택 데이터의 경우 고버전의 사이킷런에서 deprecated(더이상 사용되지 않고 삭제)되어 경고창이 발생되므로\n",
        "warnings.filterwarnings(\"ignore\", category=FutureWarning) # FutureWarning Error에 대하여 무시하는 코드 작성해준겁니다...\n",
        "\n",
        "from sklearn.datasets import load_boston \n",
        "boston = load_boston()\n",
        "print(\"데이터의 형태 : {}\".format(boston.data.shape))"
      ],
      "metadata": {
        "colab": {
          "base_uri": "https://localhost:8080/"
        },
        "id": "1nU-pT2UMUHY",
        "outputId": "e1934de8-5948-4d63-ee43-372bb2fb992a"
      },
      "execution_count": null,
      "outputs": [
        {
          "output_type": "stream",
          "name": "stdout",
          "text": [
            "데이터의 형태 : (506, 13)\n"
          ]
        }
      ]
    },
    {
      "cell_type": "code",
      "source": [
        "X, y = mglearn.datasets.load_extended_boston()      # 13개의 특성을 조합하여 104개의 특성으로 증가(특성공학), 이에 대한 내용은 4장에서 중점적으로 다룰 예정이랍니다!\n",
        "print(\"X.shape:\", X.shape)"
      ],
      "metadata": {
        "colab": {
          "base_uri": "https://localhost:8080/"
        },
        "id": "vH9588KrMZ4Y",
        "outputId": "12bb9969-2911-4575-ae1d-2d0ea4541efa"
      },
      "execution_count": null,
      "outputs": [
        {
          "output_type": "stream",
          "name": "stdout",
          "text": [
            "X.shape: (506, 104)\n"
          ]
        }
      ]
    },
    {
      "cell_type": "markdown",
      "source": [
        ""
      ],
      "metadata": {
        "id": "2KJc7ZrNNq64"
      }
    },
    {
      "cell_type": "markdown",
      "source": [
        ""
      ],
      "metadata": {
        "id": "exGT5kowNqxx"
      }
    },
    {
      "cell_type": "markdown",
      "source": [
        "#2.3.2. k-최근접 이웃 (kNN, k-nearest neighbors)"
      ],
      "metadata": {
        "id": "m_LcgvLjNqmR"
      }
    },
    {
      "cell_type": "markdown",
      "source": [
        "##2.3.2-1. k-최근접 이웃 분류"
      ],
      "metadata": {
        "id": "Nnd9Jl7YOz41"
      }
    },
    {
      "cell_type": "markdown",
      "source": [
        "###kNN 분류에 대한 설명 예시"
      ],
      "metadata": {
        "id": "P9ms2ZpKSYHM"
      }
    },
    {
      "cell_type": "code",
      "source": [
        "mglearn.plots.plot_knn_classification(n_neighbors=1)"
      ],
      "metadata": {
        "colab": {
          "base_uri": "https://localhost:8080/",
          "height": 265
        },
        "id": "5uILND0sNvac",
        "outputId": "e7a44d56-d530-4323-a93f-52b839a3630e"
      },
      "execution_count": null,
      "outputs": [
        {
          "output_type": "display_data",
          "data": {
            "text/plain": [
              "<Figure size 432x288 with 1 Axes>"
            ],
            "image/png": "[encoded data removed]"
          },
          "metadata": {
            "needs_background": "light"
          }
        }
      ]
    },
    {
      "cell_type": "code",
      "source": [
        "mglearn.plots.plot_knn_classification(n_neighbors=3)"
      ],
      "metadata": {
        "colab": {
          "base_uri": "https://localhost:8080/",
          "height": 265
        },
        "id": "JbqgB1ViOhAp",
        "outputId": "991bf139-0ba3-4e6c-def5-20e3b94e241c"
      },
      "execution_count": null,
      "outputs": [
        {
          "output_type": "display_data",
          "data": {
            "text/plain": [
              "<Figure size 432x288 with 1 Axes>"
            ],
            "image/png": "[encoded data removed]"
          },
          "metadata": {
            "needs_background": "light"
          }
        }
      ]
    },
    {
      "cell_type": "markdown",
      "source": [
        "### forge 데이터셋을 이용한 kNN 분류"
      ],
      "metadata": {
        "id": "IfJQ1xwcSe4s"
      }
    },
    {
      "cell_type": "code",
      "source": [
        "from sklearn.model_selection import train_test_split  # 데이터에 대하여 훈련 / 테스트데이터 분리\n",
        "X, y = mglearn.datasets.make_forge()\n",
        "\n",
        "X_train, X_test, y_train, y_test = train_test_split(X, y, random_state=0)"
      ],
      "metadata": {
        "id": "6KftqgBzSi3k"
      },
      "execution_count": null,
      "outputs": []
    },
    {
      "cell_type": "code",
      "source": [
        "from sklearn.neighbors import KNeighborsClassifier  # kNN 분류 모듈 호출\n",
        "knc = KNeighborsClassifier(n_neighbors=3) # k의 수는 3으로 설정"
      ],
      "metadata": {
        "id": "uZCBXEg4S0Av"
      },
      "execution_count": null,
      "outputs": []
    },
    {
      "cell_type": "code",
      "source": [
        "knc.fit(X_train, y_train) # 특성(input), 타깃 데이터에 대하여 훈련"
      ],
      "metadata": {
        "colab": {
          "base_uri": "https://localhost:8080/"
        },
        "id": "8UDhgEUVS_Wf",
        "outputId": "811e9ef0-d910-45c7-cb00-b42eaaa1fed4"
      },
      "execution_count": null,
      "outputs": [
        {
          "output_type": "execute_result",
          "data": {
            "text/plain": [
              "KNeighborsClassifier(n_neighbors=3)"
            ]
          },
          "metadata": {},
          "execution_count": 18
        }
      ]
    },
    {
      "cell_type": "code",
      "source": [
        "print(\"테스트 세트 예측:\", knc.predict(X_test)) # 훈련된 모델로 테스트 세트 예측하기"
      ],
      "metadata": {
        "colab": {
          "base_uri": "https://localhost:8080/"
        },
        "id": "5Sc1bKJPTG03",
        "outputId": "120eb9e6-865d-4019-d6fa-20b13e03a659"
      },
      "execution_count": null,
      "outputs": [
        {
          "output_type": "stream",
          "name": "stdout",
          "text": [
            "테스트 세트 예측: [1 0 1 0 1 0 0]\n"
          ]
        }
      ]
    },
    {
      "cell_type": "code",
      "source": [
        "print(\"테스트 세트 정확도: {:.2f}\".format(knc.score(X_test, y_test)))"
      ],
      "metadata": {
        "colab": {
          "base_uri": "https://localhost:8080/"
        },
        "id": "SoSSq6febWAe",
        "outputId": "e1fbd4c2-362e-43d1-eb33-d123c2b9c97d"
      },
      "execution_count": null,
      "outputs": [
        {
          "output_type": "stream",
          "name": "stdout",
          "text": [
            "테스트 세트 정확도: 0.86\n"
          ]
        }
      ]
    },
    {
      "cell_type": "code",
      "source": [
        "pd.DataFrame(X_test, y_test)   # 총 7행 중 6행의 경우 예측이 틀렸다.... 따라서 6/7 = 86%의 정확도를 가짐을 알 수 있네요..."
      ],
      "metadata": {
        "colab": {
          "base_uri": "https://localhost:8080/",
          "height": 269
        },
        "id": "eO-i_awzbcIl",
        "outputId": "178a61f5-c810-48b2-ddcb-3749bcfdc32c"
      },
      "execution_count": null,
      "outputs": [
        {
          "output_type": "execute_result",
          "data": {
            "text/plain": [
              "           0         1\n",
              "1  11.541558  5.211161\n",
              "0  10.063938  0.990781\n",
              "1   9.491235  4.332248\n",
              "0   8.183781  1.295642\n",
              "1   8.309889  4.806240\n",
              "1  10.240289  2.455444\n",
              "0   8.344688  1.638243"
            ],
            "text/html": [
              "\n",
              "  <div id=\"df-84d09c67-2560-4a0b-84af-0362230efab4\">\n",
              "    <div class=\"colab-df-container\">\n",
              "      <div>\n",
              "<style scoped>\n",
              "    .dataframe tbody tr th:only-of-type {\n",
              "        vertical-align: middle;\n",
              "    }\n",
              "\n",
              "    .dataframe tbody tr th {\n",
              "        vertical-align: top;\n",
              "    }\n",
              "\n",
              "    .dataframe thead th {\n",
              "        text-align: right;\n",
              "    }\n",
              "</style>\n",
              "<table border=\"1\" class=\"dataframe\">\n",
              "  <thead>\n",
              "    <tr style=\"text-align: right;\">\n",
              "      <th></th>\n",
              "      <th>0</th>\n",
              "      <th>1</th>\n",
              "    </tr>\n",
              "  </thead>\n",
              "  <tbody>\n",
              "    <tr>\n",
              "      <th>1</th>\n",
              "      <td>11.541558</td>\n",
              "      <td>5.211161</td>\n",
              "    </tr>\n",
              "    <tr>\n",
              "      <th>0</th>\n",
              "      <td>10.063938</td>\n",
              "      <td>0.990781</td>\n",
              "    </tr>\n",
              "    <tr>\n",
              "      <th>1</th>\n",
              "      <td>9.491235</td>\n",
              "      <td>4.332248</td>\n",
              "    </tr>\n",
              "    <tr>\n",
              "      <th>0</th>\n",
              "      <td>8.183781</td>\n",
              "      <td>1.295642</td>\n",
              "    </tr>\n",
              "    <tr>\n",
              "      <th>1</th>\n",
              "      <td>8.309889</td>\n",
              "      <td>4.806240</td>\n",
              "    </tr>\n",
              "    <tr>\n",
              "      <th>1</th>\n",
              "      <td>10.240289</td>\n",
              "      <td>2.455444</td>\n",
              "    </tr>\n",
              "    <tr>\n",
              "      <th>0</th>\n",
              "      <td>8.344688</td>\n",
              "      <td>1.638243</td>\n",
              "    </tr>\n",
              "  </tbody>\n",
              "</table>\n",
              "</div>\n",
              "      <button class=\"colab-df-convert\" onclick=\"convertToInteractive('df-84d09c67-2560-4a0b-84af-0362230efab4')\"\n",
              "              title=\"Convert this dataframe to an interactive table.\"\n",
              "              style=\"display:none;\">\n",
              "        \n",
              "  <svg xmlns=\"http://www.w3.org/2000/svg\" height=\"24px\"viewBox=\"0 0 24 24\"\n",
              "       width=\"24px\">\n",
              "    <path d=\"M0 0h24v24H0V0z\" fill=\"none\"/>\n",
              "    <path d=\"M18.56 5.44l.94 2.06.94-2.06 2.06-.94-2.06-.94-.94-2.06-.94 2.06-2.06.94zm-11 1L8.5 8.5l.94-2.06 2.06-.94-2.06-.94L8.5 2.5l-.94 2.06-2.06.94zm10 10l.94 2.06.94-2.06 2.06-.94-2.06-.94-.94-2.06-.94 2.06-2.06.94z\"/><path d=\"M17.41 7.96l-1.37-1.37c-.4-.4-.92-.59-1.43-.59-.52 0-1.04.2-1.43.59L10.3 9.45l-7.72 7.72c-.78.78-.78 2.05 0 2.83L4 21.41c.39.39.9.59 1.41.59.51 0 1.02-.2 1.41-.59l7.78-7.78 2.81-2.81c.8-.78.8-2.07 0-2.86zM5.41 20L4 18.59l7.72-7.72 1.47 1.35L5.41 20z\"/>\n",
              "  </svg>\n",
              "      </button>\n",
              "      \n",
              "  <style>\n",
              "    .colab-df-container {\n",
              "      display:flex;\n",
              "      flex-wrap:wrap;\n",
              "      gap: 12px;\n",
              "    }\n",
              "\n",
              "    .colab-df-convert {\n",
              "      background-color: #E8F0FE;\n",
              "      border: none;\n",
              "      border-radius: 50%;\n",
              "      cursor: pointer;\n",
              "      display: none;\n",
              "      fill: #1967D2;\n",
              "      height: 32px;\n",
              "      padding: 0 0 0 0;\n",
              "      width: 32px;\n",
              "    }\n",
              "\n",
              "    .colab-df-convert:hover {\n",
              "      background-color: #E2EBFA;\n",
              "      box-shadow: 0px 1px 2px rgba(60, 64, 67, 0.3), 0px 1px 3px 1px rgba(60, 64, 67, 0.15);\n",
              "      fill: #174EA6;\n",
              "    }\n",
              "\n",
              "    [theme=dark] .colab-df-convert {\n",
              "      background-color: #3B4455;\n",
              "      fill: #D2E3FC;\n",
              "    }\n",
              "\n",
              "    [theme=dark] .colab-df-convert:hover {\n",
              "      background-color: #434B5C;\n",
              "      box-shadow: 0px 1px 3px 1px rgba(0, 0, 0, 0.15);\n",
              "      filter: drop-shadow(0px 1px 2px rgba(0, 0, 0, 0.3));\n",
              "      fill: #FFFFFF;\n",
              "    }\n",
              "  </style>\n",
              "\n",
              "      <script>\n",
              "        const buttonEl =\n",
              "          document.querySelector('#df-84d09c67-2560-4a0b-84af-0362230efab4 button.colab-df-convert');\n",
              "        buttonEl.style.display =\n",
              "          google.colab.kernel.accessAllowed ? 'block' : 'none';\n",
              "\n",
              "        async function convertToInteractive(key) {\n",
              "          const element = document.querySelector('#df-84d09c67-2560-4a0b-84af-0362230efab4');\n",
              "          const dataTable =\n",
              "            await google.colab.kernel.invokeFunction('convertToInteractive',\n",
              "                                                     [key], {});\n",
              "          if (!dataTable) return;\n",
              "\n",
              "          const docLinkHtml = 'Like what you see? Visit the ' +\n",
              "            '<a target=\"_blank\" href=https://colab.research.google.com/notebooks/data_table.ipynb>data table notebook</a>'\n",
              "            + ' to learn more about interactive tables.';\n",
              "          element.innerHTML = '';\n",
              "          dataTable['output_type'] = 'display_data';\n",
              "          await google.colab.output.renderOutput(dataTable, element);\n",
              "          const docLink = document.createElement('div');\n",
              "          docLink.innerHTML = docLinkHtml;\n",
              "          element.appendChild(docLink);\n",
              "        }\n",
              "      </script>\n",
              "    </div>\n",
              "  </div>\n",
              "  "
            ]
          },
          "metadata": {},
          "execution_count": 21
        }
      ]
    },
    {
      "cell_type": "markdown",
      "source": [
        "###forge 데이터셋을 이용한 kNN분류 분석"
      ],
      "metadata": {
        "id": "WtTHUbl7ccVW"
      }
    },
    {
      "cell_type": "code",
      "source": [
        "fig, axes = plt.subplots(1, 3, figsize=(20, 6))\n",
        "\n",
        "for n_neighbors, ax in zip([1, 3, 9], axes):\n",
        "    knc = KNeighborsClassifier(n_neighbors=n_neighbors).fit(X, y)\n",
        "    mglearn.plots.plot_2d_separator(knc, X, fill=True, eps=0.5, ax=ax, alpha=.4)\n",
        "    mglearn.discrete_scatter(X[:, 0], X[:, 1], y, ax=ax)\n",
        "    ax.set_title(\"{} neighbors\".format(n_neighbors))     # 그림의 제목을 생성\n",
        "    ax.set_xlabel(\"Class 0\")                                           # x축에는 class 0\n",
        "    ax.set_ylabel(\"Class 1\")                                           # y축에는 class 1\n",
        "axes[0].legend(loc=3)                                               # 범례를 설정하여 주고\n",
        "plt.show()  # 아래 출력된 그림을 통해 n의 수가 낮을 때는 모델이 복잡도가 높고 n의 수가 증가할수록 모델의 복잡도가 낮아짐을 확인 가능합니다!"
      ],
      "metadata": {
        "colab": {
          "base_uri": "https://localhost:8080/",
          "height": 387
        },
        "id": "HinLstTUdBNO",
        "outputId": "5afd2857-a6ac-4837-f011-7e132fc85126"
      },
      "execution_count": null,
      "outputs": [
        {
          "output_type": "display_data",
          "data": {
            "text/plain": [
              "<Figure size 1440x432 with 3 Axes>"
            ],
            "image/png": "[encoded data removed]"
          },
          "metadata": {}
        }
      ]
    },
    {
      "cell_type": "markdown",
      "source": [
        "###유방암 데이터셋을 이용한 kNN분류 분석"
      ],
      "metadata": {
        "id": "ku51YBxgC-Nz"
      }
    },
    {
      "cell_type": "code",
      "source": [
        "from sklearn.datasets import load_breast_cancer   # 다시 위스콘신 유방암 데이터셋에 대하여 호출\n",
        "\n",
        "cancer = load_breast_cancer() # 임의로 cancer라고 변수 지정\n",
        "X_train, X_test, y_train, y_test = train_test_split(\n",
        "    cancer.data, cancer.target, stratify=cancer.target, random_state=66)    # 훈련데이터와 테스트데이터 분리 진행 .. +) stratify는 앞서 악성과 양성의 수가 동일하지 않으므로 타겟 수에 따라 비례적으로 나누는 유용한 기능\n",
        " \n",
        "training_accuracy = [] # 훈련 세트와 테스트 세트 정확도를 저장하는 list 생성\n",
        "test_accuracy = []\n",
        "\n",
        "neighbors_settings = range(1, 11) # 최적의 n 수를 찾기 위해 1부터 10까지 range를 생성\n",
        "\n",
        "for n_neighbors in neighbors_settings: # for 반복문을 이용한 n 수의 반복 훈련\n",
        "    knc = KNeighborsClassifier(n_neighbors=n_neighbors) # 변수를 생성하고 n_neighbors는 반복되는 n 수가 들어갈 수 있게 = n_neighbors로 set하였음을 알 수 있다!\n",
        "    knc.fit(X_train, y_train)   # 모델의 대한 훈련\n",
        "\n",
        "    training_accuracy.append(knc.score(X_train, y_train))   # 훈련세트의 정확도를 앞서 만들어둔 리스트로 저장\n",
        "    test_accuracy.append(knc.score(X_test, y_test))   # 테스트 세트의 정확도를 앞서 만들어둔 리스트로 저장\n",
        "    \n",
        "plt.plot(neighbors_settings, training_accuracy, label=\"Train Accuracy\") # 훈련세트 정확도를 plotting\n",
        "plt.plot(neighbors_settings, test_accuracy, label=\"Test Accuracy\")  # 테스트세트 정확도를 plotting\n",
        "plt.ylabel(\"Accruracy\")\n",
        "plt.ylim(0.875, 1.025)\n",
        "plt.xlabel(\"n_neighbors\")\n",
        "plt.legend()\n",
        "plt.show()\n",
        "\n",
        "print(training_accuracy)  # 훈련 세트 정확도에 대한 실제 값\n",
        "print(test_accuracy) # 테스트 세트 정확도에 대한 실제 값\n",
        "\n",
        "# 아래 그래프를 보게되면 n의 수가 작을 때는 과대적합이 됨을 알 수 있고 n의 수가 클때는 과소적합이 됨을 알 수 있네요..\n",
        "# 따라서, n=6일 때 최적의 모델임을 알 수 있습니다!"
      ],
      "metadata": {
        "colab": {
          "base_uri": "https://localhost:8080/",
          "height": 317
        },
        "id": "H3FCCf7-dRDp",
        "outputId": "bbd3047c-ddd8-4131-ca6b-b302efe04238"
      },
      "execution_count": null,
      "outputs": [
        {
          "output_type": "display_data",
          "data": {
            "text/plain": [
              "<Figure size 432x288 with 1 Axes>"
            ],
            "image/png": "[encoded data removed]"
          },
          "metadata": {
            "needs_background": "light"
          }
        },
        {
          "output_type": "stream",
          "name": "stdout",
          "text": [
            "[1.0, 0.9765258215962441, 0.9577464788732394, 0.9553990610328639, 0.9483568075117371, 0.9460093896713615, 0.9436619718309859, 0.9413145539906104, 0.9342723004694836, 0.9389671361502347]\n",
            "[0.9020979020979021, 0.8881118881118881, 0.9230769230769231, 0.9230769230769231, 0.9230769230769231, 0.9370629370629371, 0.9300699300699301, 0.9300699300699301, 0.916083916083916, 0.916083916083916]\n"
          ]
        }
      ]
    },
    {
      "cell_type": "markdown",
      "source": [
        "##k-최근접 이웃 회귀"
      ],
      "metadata": {
        "id": "oZizq8LHdUPF"
      }
    },
    {
      "cell_type": "markdown",
      "source": [
        "###kNN회귀 예시"
      ],
      "metadata": {
        "id": "d8MWJEh2ddkk"
      }
    },
    {
      "cell_type": "code",
      "source": [
        "mglearn.plots.plot_knn_regression(n_neighbors=1)"
      ],
      "metadata": {
        "id": "VHkC8_Ugdoi8",
        "outputId": "f50ab545-87f1-45de-b40f-98ce099c9e87",
        "colab": {
          "base_uri": "https://localhost:8080/",
          "height": 414
        }
      },
      "execution_count": null,
      "outputs": [
        {
          "output_type": "display_data",
          "data": {
            "text/plain": [
              "<Figure size 720x432 with 1 Axes>"
            ],
            "image/png": "[encoded data removed]"
          },
          "metadata": {
            "needs_background": "light"
          }
        }
      ]
    },
    {
      "cell_type": "code",
      "source": [
        "mglearn.plots.plot_knn_regression(n_neighbors=3)"
      ],
      "metadata": {
        "id": "tGmTBGGvdq36",
        "outputId": "9ecb5861-be7f-4195-f72b-324219f35595",
        "colab": {
          "base_uri": "https://localhost:8080/",
          "height": 414
        }
      },
      "execution_count": null,
      "outputs": [
        {
          "output_type": "display_data",
          "data": {
            "text/plain": [
              "<Figure size 720x432 with 1 Axes>"
            ],
            "image/png": "[encoded data removed]"
          },
          "metadata": {
            "needs_background": "light"
          }
        }
      ]
    },
    {
      "cell_type": "markdown",
      "source": [
        "###wave 데이터셋을 이용한 knn 회귀"
      ],
      "metadata": {
        "id": "F1PExhbzIdOx"
      }
    },
    {
      "cell_type": "code",
      "source": [
        "from sklearn.neighbors import KNeighborsRegressor # kNN 회귀 모듈 호출\n",
        "\n",
        "X, y = mglearn.datasets.make_wave(n_samples=40)       # 데이터셋 불러오기\n",
        "print(X.shape, y.shape)                                               # 데이터의 형태 확인 40개의 샘플과 1개의 특성이 있으며 타깃 또한 40개의 0,1 데이터로 구성되어 있음을 알 수 있네요!"
      ],
      "metadata": {
        "colab": {
          "base_uri": "https://localhost:8080/"
        },
        "id": "k4D_t4FVIp4r",
        "outputId": "1b4254e4-9e05-4fbc-dfae-10d91545a418"
      },
      "execution_count": null,
      "outputs": [
        {
          "output_type": "stream",
          "name": "stdout",
          "text": [
            "(40, 1) (40,)\n"
          ]
        }
      ]
    },
    {
      "cell_type": "code",
      "source": [
        "X_train, X_test, y_train, y_test = train_test_split(X, y, random_state = 0)  # \n",
        "\n",
        "knr = KNeighborsRegressor(n_neighbors = 3)\n",
        "knr.fit(X_train, y_train)\n",
        "\n",
        "print(\"테스트 세트 예측:\\n\", knr.predict(X_test))\n",
        "print(\"테스트 세트 R-Square: {:.2f}\".format(knr.score(X_test, y_test)))       # 회귀의 경우 특정 값을 맞추는 정도를 scoring하므로 정확도가 아닌 R-square 값으로 모델의 성능을 판별할 수 있다!"
      ],
      "metadata": {
        "colab": {
          "base_uri": "https://localhost:8080/"
        },
        "id": "Xwh2epCzJIR1",
        "outputId": "273f7b84-34e0-43f4-9a39-f4a80f7ec5ea"
      },
      "execution_count": null,
      "outputs": [
        {
          "output_type": "stream",
          "name": "stdout",
          "text": [
            "테스트 세트 예측:\n",
            " [-0.05396539  0.35686046  1.13671923 -1.89415682 -1.13881398 -1.63113382\n",
            "  0.35686046  0.91241374 -0.44680446 -1.13881398]\n",
            "테스트 세트 R-Square: 0.83\n"
          ]
        }
      ]
    },
    {
      "cell_type": "markdown",
      "source": [
        "###wave 데이터셋을 이용한 knn 회귀 분석"
      ],
      "metadata": {
        "id": "FYZffDOFLs10"
      }
    },
    {
      "cell_type": "code",
      "source": [
        "fig, axes = plt.subplots(1, 3, figsize=(20, 5))\n",
        "line = np.linspace(-3, 3, 1000).reshape(-1, 1)   # -3~3까지 1000개의 데이터를 만들고 numpy 배열로 reshaping\n",
        "for n_neighbors, ax in zip([1, 3, 9], axes): # n 값을 1, 3, 9로 변경하며 회귀 모델 훈련\n",
        "    reg = KNeighborsRegressor(n_neighbors=n_neighbors)\n",
        "    reg.fit(X_train, y_train)\n",
        "    ax.plot(line, reg.predict(line))\n",
        "    ax.plot(X_train, y_train, '^', c=mglearn.cm2(0), markersize=8)\n",
        "    ax.plot(X_test, y_test, 'v', c=mglearn.cm2(1), markersize=8)\n",
        "\n",
        "    ax.set_title(\n",
        "        \"{} Training Score : {:.2f}    Test Score : {:.2f}\".format(\n",
        "            n_neighbors, reg.score(X_train, y_train), reg.score(X_test, y_test)))\n",
        "    ax.set_xlabel(\"Feature\")\n",
        "    ax.set_ylabel(\"Target\")\n",
        "axes[0].legend([\"Pred of Model\", \"Training Data/Target\", \"Test Data/Target\"], loc=\"best\")\n",
        "plt.show()          # 아래의 그림과 같이 n의 수가 1일때는 과대적합을 보이고 9일 때는 과소적합을 보임을 알 수 있다!\n",
        "\n",
        "# k-최근접 이웃 알고리즘은 모델링이 간편하고 Tuning이 쉽지만 데이터가 많아지면 예측이 느려지므로 현업에서 쓰이지는 않으며, 머닝러신 초기 학습에 좋은 유형이라고 보면 되겠다랍니다!\n",
        "# 그럼 이럴 때 단점을 covering 할 수 있는 방법은???? 아래의 선형 모델을 공부하여 보시죠!"
      ],
      "metadata": {
        "colab": {
          "base_uri": "https://localhost:8080/",
          "height": 350
        },
        "id": "YapNWI1mL2QU",
        "outputId": "8c6c0ee6-0ffa-4304-af02-4e5c2d318b88"
      },
      "execution_count": null,
      "outputs": [
        {
          "output_type": "display_data",
          "data": {
            "text/plain": [
              "<Figure size 1440x360 with 3 Axes>"
            ],
            "image/png": "[encoded data removed]"
          },
          "metadata": {
            "needs_background": "light"
          }
        }
      ]
    },
    {
      "cell_type": "markdown",
      "source": [
        ""
      ],
      "metadata": {
        "id": "ZJobJe1vN2rK"
      }
    },
    {
      "cell_type": "markdown",
      "source": [
        ""
      ],
      "metadata": {
        "id": "eKSKuDQZN2ar"
      }
    },
    {
      "cell_type": "markdown",
      "source": [
        ""
      ],
      "metadata": {
        "id": "qyHZLYSBN2SI"
      }
    },
    {
      "cell_type": "markdown",
      "source": [
        "#2.3.3. 선형 모델"
      ],
      "metadata": {
        "id": "TP5xS6VhN2HD"
      }
    },
    {
      "cell_type": "code",
      "source": [
        "mglearn.plots.plot_linear_regression_wave()   # w : 기울기(가중치, weight), b : 절편(편향, bias)         // y = 0.39x - 0.03"
      ],
      "metadata": {
        "colab": {
          "base_uri": "https://localhost:8080/",
          "height": 465
        },
        "id": "rDjqW0JAP3KO",
        "outputId": "8a4392ac-1a80-439d-eaf1-6fee601e2300"
      },
      "execution_count": null,
      "outputs": [
        {
          "output_type": "stream",
          "name": "stdout",
          "text": [
            "w[0]: 0.393906  b: -0.031804\n"
          ]
        },
        {
          "output_type": "display_data",
          "data": {
            "text/plain": [
              "<Figure size 576x576 with 1 Axes>"
            ],
            "image/png": "[encoded data removed]"
          },
          "metadata": {
            "needs_background": "light"
          }
        }
      ]
    },
    {
      "cell_type": "code",
      "source": [
        "# k-최근접 이웃에 비해서 데이터의 상세 정보를 잃었다고 생각 가능(즉, 오차가 크게 발생...?)하나 데이터가 많을 수록 더 큰 영향을 발휘하며\n",
        "# 이러한 오차를 줄이기 위한 여러가지 선형 회귀 모델이 있다는 점!을 다음으로 공부해봅시다!"
      ],
      "metadata": {
        "id": "SRGe0YCARd8X"
      },
      "execution_count": null,
      "outputs": []
    },
    {
      "cell_type": "code",
      "source": [
        "X, y = mglearn.datasets.make_wave(n_samples=40)\n",
        "plt.scatter(X, y, marker = 'o') \n",
        "plt.ylim(-3, 3)   \n",
        "plt.xlabel(\"Feature\")\n",
        "plt.ylabel(\"Target\")\n",
        "plt.show()\n",
        "print(\"X.shape : {}\".format(X.shape))"
      ],
      "metadata": {
        "id": "qDYEqIz9QG4x"
      },
      "execution_count": null,
      "outputs": []
    },
    {
      "cell_type": "markdown",
      "source": [
        "###선형 회귀(최소제곱법)"
      ],
      "metadata": {
        "id": "6oNtMAH2R1gk"
      }
    },
    {
      "cell_type": "markdown",
      "source": [
        "\n",
        "\n",
        "> 선형회귀 또는 최소제곱법은 가장 간단하고 오래된 전통적인 알고리즘으로 예측과 훈련 세트에 있는 타깃 y 사이의 평균제곱오차(MSE)를 최소화하는 파라미터 w, b를 찾는 방법\n",
        "\n",
        "\n",
        "\n",
        "> MSE = (예측값 - 타깃값)^2 / n\n",
        "\n",
        "\n",
        "\n"
      ],
      "metadata": {
        "id": "mzzvEnfBTzNM"
      }
    },
    {
      "cell_type": "code",
      "source": [
        "from sklearn.linear_model import LinearRegression # 선형회귀모듈 호출\n",
        "lr = LinearRegression() # 변수입력\n",
        "\n",
        "X, y = mglearn.datasets.make_wave(n_samples = 60) # wave 데이터셋호출\n",
        "X_train, X_test, y_train, y_test = train_test_split(X, y, random_state=42) # 훈련/테스트 세트 split\n",
        "\n",
        "lr.fit(X_train, y_train)"
      ],
      "metadata": {
        "colab": {
          "base_uri": "https://localhost:8080/"
        },
        "id": "5m9-vntpQL9m",
        "outputId": "c6738ea7-f65f-4755-9fd0-f34b98dcf7bc"
      },
      "execution_count": null,
      "outputs": [
        {
          "output_type": "execute_result",
          "data": {
            "text/plain": [
              "LinearRegression()"
            ]
          },
          "metadata": {},
          "execution_count": 85
        }
      ]
    },
    {
      "cell_type": "code",
      "source": [
        "print(\"lr.coef_:\", lr.coef_)               # 계수 = 기울기 = 가중치 = w\n",
        "print(\"lr.intercept_:\", lr.intercept_)   # 절편 = 편향 = b"
      ],
      "metadata": {
        "colab": {
          "base_uri": "https://localhost:8080/"
        },
        "id": "w8T3JByfS9Z_",
        "outputId": "17ddf801-3bd1-4a20-8a42-2aeb21ec719f"
      },
      "execution_count": null,
      "outputs": [
        {
          "output_type": "stream",
          "name": "stdout",
          "text": [
            "lr.coef_: [0.39390555]\n",
            "lr.intercept_: -0.031804343026759746\n"
          ]
        }
      ]
    },
    {
      "cell_type": "code",
      "source": [
        "print(\"훈련 세트 점수: {:.2f}\".format(lr.score(X_train, y_train)))\n",
        "print(\"테스트 세트 점수: {:.2f}\".format(lr.score(X_test, y_test)))        # 훈련세트와 테스트 세트의 R2 값이 비슷한 과소적합 모델임을 알 수 있다! (단순한 모델에서는 과대적합은 걱정할 필요가 없어요!)"
      ],
      "metadata": {
        "colab": {
          "base_uri": "https://localhost:8080/"
        },
        "id": "TNbNgwHtUUXG",
        "outputId": "35de394f-0db1-4401-a488-086fd5bbd1fb"
      },
      "execution_count": null,
      "outputs": [
        {
          "output_type": "stream",
          "name": "stdout",
          "text": [
            "훈련 세트 점수: 0.67\n",
            "테스트 세트 점수: 0.66\n"
          ]
        }
      ]
    },
    {
      "cell_type": "code",
      "source": [
        "X, y = mglearn.datasets.load_extended_boston()      # 복잡한 데이터셋인 보스턴 부동산 데이터셋을 호출\n",
        "\n",
        "X_train, X_test, y_train, y_test = train_test_split(X, y, random_state=0) # split\n",
        "lr = LinearRegression().fit(X_train, y_train) # train\n",
        "\n",
        "print(\"훈련 세트 점수: {:.2f}\".format(lr.score(X_train, y_train))) # scoring\n",
        "print(\"테스트 세트 점수: {:.2f}\".format(lr.score(X_test, y_test))) # scroing 결과 훈련 세트에 과대적합된 모델임을 알 수 있다!"
      ],
      "metadata": {
        "colab": {
          "base_uri": "https://localhost:8080/"
        },
        "id": "GTDcylcLUkzx",
        "outputId": "6ffc6f90-1dc6-43cf-e291-0151b17bb13a"
      },
      "execution_count": null,
      "outputs": [
        {
          "output_type": "stream",
          "name": "stdout",
          "text": [
            "훈련 세트 점수: 0.95\n",
            "테스트 세트 점수: 0.61\n"
          ]
        }
      ]
    },
    {
      "cell_type": "code",
      "source": [
        "# 따라서, 앞으로 우리가 다루게 될 복잡한 모델에서의 과대적합을 제어할 수 있는 모델의 사용이 필요!\n",
        "# 그 중 가장 널리 쓰이는 방식이 릿지 회귀!"
      ],
      "metadata": {
        "id": "Cd0d529uU_vN"
      },
      "execution_count": null,
      "outputs": []
    },
    {
      "cell_type": "markdown",
      "source": [
        "###릿지 회귀"
      ],
      "metadata": {
        "id": "fw_CmyFGVHUj"
      }
    },
    {
      "cell_type": "code",
      "source": [
        "# 릿지 회귀는 훈련 과정에서 가중치 w의 절대값을 가능한 한 작게 만드는 모델, 다시 말해서 w의 모든 원소가 0에 가깝도록....\n",
        "# 보통 이러한 것을 모델을 강제로 제한하기에 규제를 준다고 표현합니다.... 릿지 회귀의 경우에는 L2규제라고 하오니 용어도 알아둡시다..!\n",
        "# 그럼 릿지 회귀 모델링을 시작하겠습니다!"
      ],
      "metadata": {
        "id": "xi9EScJfVInN"
      },
      "execution_count": null,
      "outputs": []
    },
    {
      "cell_type": "code",
      "source": [
        "from sklearn.linear_model import Ridge\n",
        "\n",
        "ridge = Ridge()\n",
        "ridge.fit(X_train, y_train)          # sklearn의 경우 객체를 셀프반환이 가능하여 2줄의 코드를 ridge = Ridge().fit(X_train, y_train)의 1줄 코드로 작성할 수도 있습니다... 개인이 편한대로...\n",
        "\n",
        "print(\"훈련 세트 점수: {:.2f}\".format(ridge.score(X_train, y_train)))\n",
        "print(\"테스트 세트 점수: {:.2f}\".format(ridge.score(X_test, y_test)))  # 확실히 테스트셋의 R2값이 높아졌음을 알 수 있으나 아직도 훈련세트에 대한 과대적합임을 보이네요...!\n",
        "\n",
        "# 그럼 과대 적합을 줄이기 위해서 어떻게 할까요..? alpha라는 매개변수(하이퍼파라미터)를 조절해서 모델을 최적화 할 수 있답니다! Tip) alpha의 디폴트 값은 1.0입니다!\n",
        "# alpha의 값을 높이게 되면 계수(기울기)를 0에 가깝게 만들어주므로 훈련 데이터의 R2값은 낮아지지만 모델의 과대적합을 제거하고 일반화된 모델을 만들 수 있습니다!"
      ],
      "metadata": {
        "colab": {
          "base_uri": "https://localhost:8080/"
        },
        "id": "eBqC8ZvZVthg",
        "outputId": "3806187d-3f8a-47ed-9fa5-02ab520b53cf"
      },
      "execution_count": null,
      "outputs": [
        {
          "output_type": "stream",
          "name": "stdout",
          "text": [
            "훈련 세트 점수: 0.89\n",
            "테스트 세트 점수: 0.75\n"
          ]
        }
      ]
    },
    {
      "cell_type": "code",
      "source": [
        "ridge10 = Ridge(alpha=10) # alpha값을 10으로 설정하고 모델을 훈련하여 봅시다!\n",
        "ridge10.fit(X_train, y_train)\n",
        "\n",
        "print(\"훈련 세트 점수: {:.2f}\".format(ridge10.score(X_train, y_train)))\n",
        "print(\"테스트 세트 점수: {:.2f}\".format(ridge10.score(X_test, y_test))) "
      ],
      "metadata": {
        "colab": {
          "base_uri": "https://localhost:8080/"
        },
        "id": "KkSxm3cpXpUU",
        "outputId": "279639eb-a322-4e1e-b7f1-cbf7858a34e3"
      },
      "execution_count": null,
      "outputs": [
        {
          "output_type": "stream",
          "name": "stdout",
          "text": [
            "훈련 세트 점수: 0.79\n",
            "테스트 세트 점수: 0.64\n"
          ]
        }
      ]
    },
    {
      "cell_type": "code",
      "source": [
        "ridge01 = Ridge(alpha=0.1) # 그럼 이번에는 alpha 값을 0.1로 설정해보겠습니다.\n",
        "ridge01.fit(X_train, y_train)\n",
        "\n",
        "print(\"훈련 세트 점수: {:.2f}\".format(ridge01.score(X_train, y_train)))\n",
        "print(\"테스트 세트 점수: {:.2f}\".format(ridge01.score(X_test, y_test))) #흠... alpha값이 너무 작아 계수를 거의 제한하지 않아 단순선형회귀모델과 유사해졌습니다!"
      ],
      "metadata": {
        "colab": {
          "base_uri": "https://localhost:8080/"
        },
        "id": "TsqRCh68Yj7K",
        "outputId": "a26d7f21-65e3-48f3-9166-605228a263a6"
      },
      "execution_count": null,
      "outputs": [
        {
          "output_type": "stream",
          "name": "stdout",
          "text": [
            "훈련 세트 점수: 0.93\n",
            "테스트 세트 점수: 0.77\n"
          ]
        }
      ]
    },
    {
      "cell_type": "code",
      "source": [
        "# 책에는 없는 내용이지만 여러의 alpha값을 반복하며 scoring하는 코드를 작성하고 결과를 보겠습니다...\n",
        "train_score = []\n",
        "test_score = []\n",
        "\n",
        "alpha_list = [0.001, 0.01, 0.1, 1, 10, 100]\n",
        "for alpha in alpha_list:\n",
        "    ridge = Ridge(alpha = alpha)    # 릿지 모델을 만듭니다.\n",
        "    ridge.fit(X_train, y_train) # 릿지 모델을 훈련합니다.\n",
        "    train_score.append(ridge.score(X_train, y_train))  # 훈련 점수를 저장합니다.\n",
        "    test_score.append(ridge.score(X_test, y_test))     # 테스트 점수를 저장합니다.\n",
        "\n",
        "print(train_score)\n",
        "print(test_score) # 흠.... alpha값이 1일때의 성능이 제일 좋아보이네요.."
      ],
      "metadata": {
        "colab": {
          "base_uri": "https://localhost:8080/"
        },
        "id": "SGZIBUm-ZG50",
        "outputId": "dd0f8426-58f6-4d73-e105-4a0ea408f69d"
      },
      "execution_count": null,
      "outputs": [
        {
          "output_type": "stream",
          "name": "stdout",
          "text": [
            "[0.9506664850754145, 0.9444599240824947, 0.928227368500199, 0.8857966585170941, 0.7882787115369614, 0.5959022069609099]\n",
            "[0.6304288410865371, 0.7022485939213037, 0.7722067936479818, 0.7527683481744751, 0.6359411489177309, 0.41512512295946535]\n"
          ]
        }
      ]
    },
    {
      "cell_type": "code",
      "source": [
        "plt.plot(ridge10.coef_, '^', label=\"Ridge alpha=10\")\n",
        "plt.plot(ridge.coef_, 's', label=\"Ridge alpha=1\")\n",
        "plt.plot(ridge01.coef_, 'v', label=\"Ridge alpha=0.1\")\n",
        "\n",
        "plt.plot(lr.coef_, 'o', label=\"LinearRegression\")\n",
        "plt.xlabel(\"coef list\")\n",
        "plt.ylabel(\"coef size\")\n",
        "xlims = plt.xlim()\n",
        "plt.hlines(0, xlims[0], xlims[1])\n",
        "plt.xlim(xlims)\n",
        "plt.ylim(-25, 25)\n",
        "plt.legend()\n",
        "plt.show()          # 확실히 alpha값이 클수록 모델의 성능은 낮아도 계수의 값이 작으며 alpha의 값이 작아질수록 계수값은 점점 커져 제한이 없는 선형회귀와 비슷해지는 것 같네요"
      ],
      "metadata": {
        "colab": {
          "base_uri": "https://localhost:8080/",
          "height": 279
        },
        "id": "prC_Bp5ognEY",
        "outputId": "721ecd76-cfb8-4a9e-c8bd-626fe0ac57b5"
      },
      "execution_count": null,
      "outputs": [
        {
          "output_type": "display_data",
          "data": {
            "text/plain": [
              "<Figure size 432x288 with 1 Axes>"
            ],
            "image/png": "[encoded data removed]"
          },
          "metadata": {
            "needs_background": "light"
          }
        }
      ]
    },
    {
      "cell_type": "code",
      "source": [
        "# 이번에는 규제의 효과는 고정하고 데이터 크기에 따른 성능이 어떻게 나타나는지도 한번 보겠습니다. (이를 학습곡선이라고 한답니다..)\n",
        "\n",
        "mglearn.plots.plot_ridge_n_samples()\n",
        "\n",
        "# 데이터 수가 작을 때는 규제의 효과를 크게 받지만 데이터 크기가 많아지면 결국 규제항은 덜 중요해지고 릿지 회귀와 선형 회귀의 성능이 같아 질 것이라고 추정 가능합니다.\n",
        "# 추가로 재미있는 부분은 선형회귀의 훈련 성능이 감소하며 과대적합 발생률이 낮아지는 것도 알 수 있습니다."
      ],
      "metadata": {
        "colab": {
          "base_uri": "https://localhost:8080/",
          "height": 325
        },
        "id": "6WtSOKBqho0b",
        "outputId": "14dd85b6-4db5-4ad2-905a-9b2a3160e6ee"
      },
      "execution_count": null,
      "outputs": [
        {
          "output_type": "display_data",
          "data": {
            "text/plain": [
              "<Figure size 432x288 with 1 Axes>"
            ],
            "image/png": "[encoded data removed]"
          },
          "metadata": {
            "needs_background": "light"
          }
        }
      ]
    },
    {
      "cell_type": "markdown",
      "source": [
        "###라쏘 회귀"
      ],
      "metadata": {
        "id": "COhbhVsUieHq"
      }
    },
    {
      "cell_type": "code",
      "source": [
        "# 릿지 회귀에 대한 대안 으로 라쏘 회귀가 있는데 이 또한 계수를 0에 가깝게 만들어주는 방법입니다. (라쏘의 경우는 L1 규제라고 합니다.)\n",
        "# 하지만 라쏘의 경우 정말 계수를 0으로 만들어 특성을 탈락시키는 경우가 발생합니다. (자동 특성 선택)\n",
        "# 또한, 일부 계수가 0이되면 모델이 간소화되어 이해하기 쉽겠네요!\n",
        "\n",
        "from sklearn.linear_model import Lasso\n",
        "\n",
        "lasso = Lasso().fit(X_train, y_train)\n",
        "print(\"훈련 세트 점수: {:.2f}\".format(lasso.score(X_train, y_train)))\n",
        "print(\"테스트 세트 점수: {:.2f}\".format(lasso.score(X_test, y_test)))\n",
        "print(\"사용한 특성의 개수:\", np.sum(lasso.coef_ != 0)) # 디폴트 값인 alpha=1일 때, 특성을 4개밖에 사용하지 않았으며 모델의 결과또한 과소적합으로 좋지 않네요..."
      ],
      "metadata": {
        "colab": {
          "base_uri": "https://localhost:8080/"
        },
        "id": "oVhqPkATikD0",
        "outputId": "254d1118-6cf5-4597-fd9d-20ee88cd5d51"
      },
      "execution_count": null,
      "outputs": [
        {
          "output_type": "stream",
          "name": "stdout",
          "text": [
            "훈련 세트 점수: 0.29\n",
            "테스트 세트 점수: 0.21\n",
            "사용한 특성의 개수: 4\n"
          ]
        }
      ]
    },
    {
      "cell_type": "code",
      "source": [
        "lasso001 = Lasso(alpha=0.01, max_iter=50000).fit(X_train, y_train) # 과소적합을 줄이기 위해 alpha 값을 낮추어 모델을 훈련 시켜 보겠습니다. (max_iter 기본 값을 증가시키지 않으면 max_iter 값을 늘이라는 경고가 발생합니다!)\n",
        "print(\"훈련 세트 점수: {:.2f}\".format(lasso001.score(X_train, y_train)))\n",
        "print(\"테스트 세트 점수: {:.2f}\".format(lasso001.score(X_test, y_test)))\n",
        "print(\"사용한 특성의 개수:\", np.sum(lasso001.coef_ != 0))   # 총 105개의 특성 중 33개의 특성을 사용하였고 훈련 세트에 대해 과대적합이긴 하지만 성능이 괜찮아졌습니다.."
      ],
      "metadata": {
        "colab": {
          "base_uri": "https://localhost:8080/"
        },
        "id": "jo6RhaZGjHve",
        "outputId": "9782ae0e-cc3b-448c-c455-e1d1090a12e8"
      },
      "execution_count": null,
      "outputs": [
        {
          "output_type": "stream",
          "name": "stdout",
          "text": [
            "훈련 세트 점수: 0.90\n",
            "테스트 세트 점수: 0.77\n",
            "사용한 특성의 개수: 33\n"
          ]
        }
      ]
    },
    {
      "cell_type": "code",
      "source": [
        "lasso00001 = Lasso(alpha=0.0001, max_iter=50000).fit(X_train, y_train)\n",
        "print(\"훈련 세트 점수: {:.2f}\".format(lasso00001.score(X_train, y_train)))\n",
        "print(\"테스트 세트 점수: {:.2f}\".format(lasso00001.score(X_test, y_test)))\n",
        "print(\"사용한 특성의 개수:\", np.sum(lasso00001.coef_ != 0))  # 하지만 alpha값을 너무 낮추면 규제의 영향을 받지 않아 과대적합이 증가하고 선형 회귀의 결과와 비슷해짐을 알 수 있습니다."
      ],
      "metadata": {
        "colab": {
          "base_uri": "https://localhost:8080/"
        },
        "id": "wl4tLq6ejKUw",
        "outputId": "04157a8a-8f30-43f1-b7b3-ed154b5f5765"
      },
      "execution_count": null,
      "outputs": [
        {
          "output_type": "stream",
          "name": "stdout",
          "text": [
            "훈련 세트 점수: 0.95\n",
            "테스트 세트 점수: 0.64\n",
            "사용한 특성의 개수: 96\n"
          ]
        }
      ]
    },
    {
      "cell_type": "code",
      "source": [
        "plt.plot(lasso.coef_, 's', label=\"Lasso alpha=1\")\n",
        "plt.plot(lasso001.coef_, '^', label=\"Lasso alpha=0.01\")\n",
        "plt.plot(lasso00001.coef_, 'v', label=\"Lasso alpha=0.0001\")\n",
        "\n",
        "plt.plot(ridge01.coef_, 'o', label=\"Ridge alpha=0.1\")\n",
        "plt.legend(ncol=1, loc=(0, 1.05))\n",
        "plt.ylim(-25, 25)\n",
        "plt.xlabel(\"coef list\")\n",
        "plt.ylabel(\"coef size\")\n",
        "plt.show()            # 즉, 라쏘 또한 alpha값이 너무 작아지면 규제가 없어 선형회귀에 가까워 진다는 것을 알 수 있습니다!"
      ],
      "metadata": {
        "colab": {
          "base_uri": "https://localhost:8080/",
          "height": 353
        },
        "id": "cD4mmc4ejRNo",
        "outputId": "755dd189-40ba-44a7-9270-4a8b66be38d8"
      },
      "execution_count": null,
      "outputs": [
        {
          "output_type": "display_data",
          "data": {
            "text/plain": [
              "<Figure size 432x288 with 1 Axes>"
            ],
            "image/png": "[encoded data removed]"
          },
          "metadata": {
            "needs_background": "light"
          }
        }
      ]
    },
    {
      "cell_type": "markdown",
      "source": [
        "###분류용 선형 모델"
      ],
      "metadata": {
        "id": "BP8bZ4v5kDAu"
      }
    },
    {
      "cell_type": "code",
      "source": [
        "# 선형 모델은 분류에도 널리 사용됩니다!\n",
        "# 가장 널리 알려진 모델은 Logistic Regression와 Linear SVC(Support Vector Machine)이 있습니다.\n",
        "# 그럼 이 두개의 분류 알고리즘과 forge 데이터셋을 통해 이진 분류를 진행해보도록 하겠습니다!\n",
        "\n",
        "from sklearn.linear_model import LogisticRegression # 로지스틱회귀 모듈 호출\n",
        "from sklearn.svm import LinearSVC # SVC 모듈 호출\n",
        "\n",
        "X, y = mglearn.datasets.make_forge() # forge 데이터셋 호출\n",
        "\n",
        "fig, axes = plt.subplots(1, 2, figsize=(10, 3)) # 출력 그래프 설정\n",
        "\n",
        "for model, ax in zip([LinearSVC(max_iter=5000), LogisticRegression()], axes): # for문으로 SVC와 Logistic 훈련 및 그래프 출력\n",
        "    clf = model\n",
        "    model.fit(X, y)\n",
        "    mglearn.plots.plot_2d_separator(clf, X, fill=False, eps=0.5,\n",
        "                                    ax=ax, alpha=.7)\n",
        "    mglearn.discrete_scatter(X[:, 0], X[:, 1], y, ax=ax)\n",
        "    ax.set_title(clf.__class__.__name__)\n",
        "    ax.set_xlabel(\"Feat 0\")\n",
        "    ax.set_ylabel(\"Feat 1\")\n",
        "axes[0].legend()\n",
        "plt.show()    # 선형의 분류가 진행되었고 그 결과 두 알고리즘에서 2개의 예측이 틀렸음을 알 수 있다! (두 모델은 Ridge와 마찬가지로 L2 규제를 사용한다고 합니다!)\n",
        "# LogisticR과 SVC의 경우 규제에 대한 매개변수는 C 값이 사용되고 값이 낮아지면 w가 0으로 값이 높아지면 규제가 감소한답니다!\n",
        "#(alpha의 경우 값이 높아지면 w가 0으로 값이 낮아지면 규제가 감소하므로 두개의 매개변수는 반대로 작용한다고 보면 되겠네요!)"
      ],
      "metadata": {
        "colab": {
          "base_uri": "https://localhost:8080/",
          "height": 224
        },
        "id": "RdEibak0kChE",
        "outputId": "5f823eb2-bbb2-47f3-c5dd-448707a35f5b"
      },
      "execution_count": null,
      "outputs": [
        {
          "output_type": "display_data",
          "data": {
            "text/plain": [
              "<Figure size 720x216 with 2 Axes>"
            ],
            "image/png": "[encoded data removed]"
          },
          "metadata": {}
        }
      ]
    },
    {
      "cell_type": "code",
      "source": [
        "# 그리고 C값에 따른 결과를 보시게 되면 다음과 같습니다!\n",
        "\n",
        "mglearn.plots.plot_linear_svc_regularization()"
      ],
      "metadata": {
        "colab": {
          "base_uri": "https://localhost:8080/",
          "height": 268
        },
        "id": "5QIM7kaHtu6G",
        "outputId": "3919d30e-46c5-4994-a80e-f536abebf58f"
      },
      "execution_count": null,
      "outputs": [
        {
          "output_type": "display_data",
          "data": {
            "text/plain": [
              "<Figure size 864x288 with 3 Axes>"
            ],
            "image/png": "[encoded data removed]"
          },
          "metadata": {}
        }
      ]
    },
    {
      "cell_type": "markdown",
      "source": [
        "###유방암 데이터셋을 이용한 Logistic Regression"
      ],
      "metadata": {
        "id": "zDtmNLHVuKpG"
      }
    },
    {
      "cell_type": "code",
      "source": [
        "from sklearn.datasets import load_breast_cancer\n",
        "\n",
        "cancer = load_breast_cancer()\n",
        "\n",
        "X_train, X_test, y_train, y_test = train_test_split(cancer.data, cancer.target, stratify=cancer.target, random_state=42)\n",
        "logreg = LogisticRegression(max_iter=5000)\n",
        "logreg.fit(X_train, y_train)\n",
        "\n",
        "print(\"훈련 세트 점수: {:.4f}\".format(logreg.score(X_train, y_train)))\n",
        "print(\"테스트 세트 점수: {:.4f}\".format(logreg.score(X_test, y_test))) # 성능의 결과가 매우 훌륭하지만 훈련/테스트 점수가 거의 같고 테스트 세트 점수가 아주 약간 높은 과소적합임을 알 수 있습니다!"
      ],
      "metadata": {
        "colab": {
          "base_uri": "https://localhost:8080/"
        },
        "id": "Hy7IBCp4uOWF",
        "outputId": "21117555-3eb9-474d-f9f1-f87c815ad74e"
      },
      "execution_count": null,
      "outputs": [
        {
          "output_type": "stream",
          "name": "stdout",
          "text": [
            "훈련 세트 점수: 0.9577\n",
            "테스트 세트 점수: 0.9580\n"
          ]
        }
      ]
    },
    {
      "cell_type": "code",
      "source": [
        "# 그럼 매개변수 C 값을 조정하여 모델을 훈련시켜보도록 하겠습니다.\n",
        "\n",
        "logreg100 = LogisticRegression(C=100, max_iter=5000)\n",
        "logreg100.fit(X_train, y_train)\n",
        "\n",
        "print(\"훈련 세트 점수: {:.4f}\".format(logreg100.score(X_train, y_train)))\n",
        "print(\"테스트 세트 점수: {:.4f}\".format(logreg100.score(X_test, y_test)))\n",
        "# C값을 100으로 증가시키니 훈련세트와 테스트 점수가 증가하였고 훈련 세트가 조금 더 높은 훌륭한 모델이 되었네요\n",
        "# 즉, 복잡도가 높은 모델일수록 성능이 좋음을 말해주는 것입니다!"
      ],
      "metadata": {
        "colab": {
          "base_uri": "https://localhost:8080/"
        },
        "id": "GDw6vy5ywZ4N",
        "outputId": "73988b17-896f-4455-c0c1-fb2f0a034f00"
      },
      "execution_count": null,
      "outputs": [
        {
          "output_type": "stream",
          "name": "stdout",
          "text": [
            "훈련 세트 점수: 0.9812\n",
            "테스트 세트 점수: 0.9650\n"
          ]
        }
      ]
    },
    {
      "cell_type": "code",
      "source": [
        "logreg001 = LogisticRegression(C=0.01, max_iter=5000)\n",
        "logreg001.fit(X_train, y_train)\n",
        "\n",
        "print(\"훈련 세트 점수: {:.4f}\".format(logreg001.score(X_train, y_train)))\n",
        "print(\"테스트 세트 점수: {:.4f}\".format(logreg001.score(X_test, y_test)))\n",
        "# 디폴트 C=1(과소적합) 기준으로 훈련/테스트 세트의 점수가 낮아진 형태의 과소적합을 나타냅니다!"
      ],
      "metadata": {
        "colab": {
          "base_uri": "https://localhost:8080/"
        },
        "id": "PN8m2SPfxUxg",
        "outputId": "59f4165b-a57b-4db4-da21-fb9b2ce0af77"
      },
      "execution_count": null,
      "outputs": [
        {
          "output_type": "stream",
          "name": "stdout",
          "text": [
            "훈련 세트 점수: 0.9531\n",
            "테스트 세트 점수: 0.9510\n"
          ]
        }
      ]
    },
    {
      "cell_type": "code",
      "source": [
        "plt.plot(logreg100.coef_.T, '^', label=\"C=100\")\n",
        "plt.plot(logreg.coef_.T, 'o', label=\"C=1\")\n",
        "plt.plot(logreg001.coef_.T, 'v', label=\"C=0.001\")\n",
        "plt.xticks(range(cancer.data.shape[1]), cancer.feature_names, rotation=90)\n",
        "xlims = plt.xlim()\n",
        "plt.hlines(0, xlims[0], xlims[1])\n",
        "plt.xlim(xlims)\n",
        "plt.ylim(-5, 5)\n",
        "plt.xlabel(\"Feat\")\n",
        "plt.ylabel(\"Coef Size\")\n",
        "plt.legend()\n",
        "plt.show() # 즉 C값이 낮아질 수록 계수값은 0에 가까워지고 선형에서 벗어나는 형태를 보여주네요!"
      ],
      "metadata": {
        "colab": {
          "base_uri": "https://localhost:8080/",
          "height": 388
        },
        "id": "3puD1DdvxsJ9",
        "outputId": "9b827eed-97f8-481b-a4a9-892d3249079c"
      },
      "execution_count": null,
      "outputs": [
        {
          "output_type": "display_data",
          "data": {
            "text/plain": [
              "<Figure size 432x288 with 1 Axes>"
            ],
            "image/png": "[encoded data removed]"
          },
          "metadata": {
            "needs_background": "light"
          }
        }
      ]
    },
    {
      "cell_type": "code",
      "source": [
        "# 그렇다면 라쏘와 같이 L1 규제를 사용한 선형 분류는 C값에 따라 어떤 형태를 보일까요?\n",
        "\n",
        "for C, marker in zip([0.001, 1, 100], ['o', '^', 'v']):\n",
        "    lr_l1 = LogisticRegression(solver='liblinear', C=C, penalty=\"l1\", max_iter=1000).fit(X_train, y_train)\n",
        "    print(\"C={:.3f} 인 l1 로지스틱 회귀의 훈련 정확도: {:.2f}\".format(\n",
        "          C, lr_l1.score(X_train, y_train)))\n",
        "    print(\"C={:.3f} 인 l1 로지스틱 회귀의 테스트 정확도: {:.2f}\".format(\n",
        "          C, lr_l1.score(X_test, y_test)))\n",
        "    plt.plot(lr_l1.coef_.T, marker, label=\"C={:.3f}\".format(C))\n",
        "\n",
        "plt.xticks(range(cancer.data.shape[1]), cancer.feature_names, rotation=90)\n",
        "xlims = plt.xlim()\n",
        "plt.hlines(0, xlims[0], xlims[1])\n",
        "plt.xlim(xlims)\n",
        "plt.xlabel(\"Feat\")\n",
        "plt.ylabel(\"Coef Size\")\n",
        "\n",
        "plt.ylim(-5, 5)\n",
        "plt.legend(loc=3)\n",
        "plt.show()   # 릿지와 달리 라쏘는 계수의 값을 0으로 만들어 특성 제거를 할 수 있기에 전체적으로 계수의 크기가 0으로 향하려는 특징을 보이는 것 같습니다!"
      ],
      "metadata": {
        "colab": {
          "base_uri": "https://localhost:8080/",
          "height": 498
        },
        "id": "WGYqTavQyGj6",
        "outputId": "a1702c5a-661c-4c08-9f35-e9cd607a1fe7"
      },
      "execution_count": null,
      "outputs": [
        {
          "output_type": "stream",
          "name": "stdout",
          "text": [
            "C=0.001 인 l1 로지스틱 회귀의 훈련 정확도: 0.91\n",
            "C=0.001 인 l1 로지스틱 회귀의 테스트 정확도: 0.92\n",
            "C=1.000 인 l1 로지스틱 회귀의 훈련 정확도: 0.96\n",
            "C=1.000 인 l1 로지스틱 회귀의 테스트 정확도: 0.96\n",
            "C=100.000 인 l1 로지스틱 회귀의 훈련 정확도: 0.99\n",
            "C=100.000 인 l1 로지스틱 회귀의 테스트 정확도: 0.98\n"
          ]
        },
        {
          "output_type": "display_data",
          "data": {
            "text/plain": [
              "<Figure size 432x288 with 1 Axes>"
            ],
            "image/png": "[encoded data removed]"
          },
          "metadata": {
            "needs_background": "light"
          }
        }
      ]
    },
    {
      "cell_type": "markdown",
      "source": [
        "###다중 클래스 분류용 선형 모델"
      ],
      "metadata": {
        "id": "5mOh_fqPyoLU"
      }
    },
    {
      "cell_type": "code",
      "source": [
        "# 로지스틱회귀를 제외하고 일반적인 선형 모델들의 경우에는 다중 분류를 지원하지 않습니다!\n",
        "# 따라서 이진 분류 알고리즘을 다중 분류 알고리즘으로 확장하는 일대다 기법을 사용하게 됩니다.\n",
        "# 사이킷런에 내장된 3개의 클래스를 가진 데이터셋 예제를 보도록 하겠습니다!\n",
        "\n",
        "from sklearn.datasets import make_blobs\n",
        "\n",
        "X, y = make_blobs(random_state=42)\n",
        "mglearn.discrete_scatter(X[:, 0], X[:, 1], y)\n",
        "plt.xlabel(\"Feat 0\")\n",
        "plt.ylabel(\"Feat 1\")\n",
        "plt.legend([\"Class 0\", \"Class 1\", \"Class 2\"])\n",
        "plt.show()"
      ],
      "metadata": {
        "colab": {
          "base_uri": "https://localhost:8080/",
          "height": 279
        },
        "id": "u2gHJ_R8yrXZ",
        "outputId": "1f3f9195-890d-4049-c614-29655cc01e5c"
      },
      "execution_count": null,
      "outputs": [
        {
          "output_type": "display_data",
          "data": {
            "text/plain": [
              "<Figure size 432x288 with 1 Axes>"
            ],
            "image/png": "[encoded data removed]"
          },
          "metadata": {
            "needs_background": "light"
          }
        }
      ]
    },
    {
      "cell_type": "code",
      "source": [
        "# 그리고 위에서 로드된 데이터셋으로 LinearSVC 분류기 훈련을 해보겠습니다!\n",
        "\n",
        "linear_svc = LinearSVC()\n",
        "linear_svc.fit(X, y)\n",
        "\n",
        "print(\"계수 배열의 크기: \", linear_svc.coef_.shape)   # 3개의 클래스는 각 2개의 계수를 가지고 있고\n",
        "print(\"절편 배열의 크기: \", linear_svc.intercept_.shape) # 1개의 절편을 가지고 있군요!"
      ],
      "metadata": {
        "colab": {
          "base_uri": "https://localhost:8080/"
        },
        "id": "PlSw9nLPzb7a",
        "outputId": "acdbc131-f2bc-44b1-eac5-56209bee6990"
      },
      "execution_count": null,
      "outputs": [
        {
          "output_type": "stream",
          "name": "stdout",
          "text": [
            "계수 배열의 크기:  (3, 2)\n",
            "절편 배열의 크기:  (3,)\n"
          ]
        }
      ]
    },
    {
      "cell_type": "code",
      "source": [
        "# 그럼 3개의 이진분류기로 각 클래스의 경계를 시각화해보겠습니다!\n",
        "\n",
        "mglearn.discrete_scatter(X[:, 0], X[:, 1], y) # 특성0(0열), 특성0(1열), 타깃 값을 입력하여주고\n",
        "line = np.linspace(-15, 15) # numpy의 축경계 메소드를 이용\n",
        "for coef, intercept, color in zip(linear_svc.coef_, linear_svc.intercept_, mglearn.cm3.colors):\n",
        "    plt.plot(line, -(line * coef[0] + intercept) / coef[1], c=color) # mglearn 모듈을 이용한 회귀식의 고급 시각화....\n",
        "plt.ylim(-10, 15) # y축 값 폭 설정\n",
        "plt.xlim(-10, 8) # x축 값 폭 설정\n",
        "plt.xlabel(\"Feat 0\") # x축 라벨링\n",
        "plt.ylabel(\"Feat 1\") # y축 라벨링\n",
        "plt.legend(['Class 0', 'Class 1', 'Class 2', 'Class 0 boundary', 'Class 1 Boundary',\n",
        "            'Class 2 Boundary'], loc=(1.01, 0.3)) # 범례 설정\n",
        "plt.show()\n",
        "# 공통된 영역의 포인트가 들어간다면 어떻게 될 것인가?? 이 부분에 대한 시각화가 필요할 것 같습니다.."
      ],
      "metadata": {
        "colab": {
          "base_uri": "https://localhost:8080/",
          "height": 283
        },
        "id": "RE7dSqUcz7VW",
        "outputId": "e7ab899c-4e1f-422b-b873-c56caa0e09c4"
      },
      "execution_count": null,
      "outputs": [
        {
          "output_type": "display_data",
          "data": {
            "text/plain": [
              "<Figure size 432x288 with 1 Axes>"
            ],
            "image/png": "[encoded data removed]"
          },
          "metadata": {
            "needs_background": "light"
          }
        }
      ]
    },
    {
      "cell_type": "code",
      "source": [
        "mglearn.plots.plot_2d_classification(linear_svc, X, fill=True, alpha=.7)\n",
        "mglearn.discrete_scatter(X[:, 0], X[:, 1], y)\n",
        "line = np.linspace(-15, 15)\n",
        "for coef, intercept, color in zip(linear_svc.coef_, linear_svc.intercept_,\n",
        "                                  mglearn.cm3.colors):\n",
        "    plt.plot(line, -(line * coef[0] + intercept) / coef[1], c=color)\n",
        "plt.legend(['Class 0', 'Class 1', 'Class 2', 'Class 0 boundary', 'Class 1 Boundary',\n",
        "            'Class 2 Boundary'], loc=(1.01, 0.3))\n",
        "plt.xlabel(\"Feat 0\")\n",
        "plt.ylabel(\"Feat 1\")\n",
        "plt.show # 다음과 같이 class 별의 영역이 표기 되는군요!"
      ],
      "metadata": {
        "colab": {
          "base_uri": "https://localhost:8080/",
          "height": 280
        },
        "id": "Juj0dZeK2P3w",
        "outputId": "6e7b2847-2025-45da-a55d-377988a6dcc3"
      },
      "execution_count": null,
      "outputs": [
        {
          "output_type": "execute_result",
          "data": {
            "text/plain": [
              "<function matplotlib.pyplot.show>"
            ]
          },
          "metadata": {},
          "execution_count": 137
        },
        {
          "output_type": "display_data",
          "data": {
            "text/plain": [
              "<Figure size 432x288 with 1 Axes>"
            ],
            "image/png": "[encoded data removed]"
          },
          "metadata": {}
        }
      ]
    },
    {
      "cell_type": "code",
      "source": [
        "# 책을 보시면 위에서 배운 데이터 셋이 매우 클 경우에 대하여 릿지 옵션 주는 법과 경사하강법이 대안으로 소개되고 있으니 이 부분은 한 번 읽어보시고, 실습을 해보고 싶으시면 깃허브 코드를 참고하시면 좋겠습니다."
      ],
      "metadata": {
        "id": "__NQaKRT3nik"
      },
      "execution_count": null,
      "outputs": []
    },
    {
      "cell_type": "markdown",
      "source": [
        ""
      ],
      "metadata": {
        "id": "9y3Tg4Ir3lyJ"
      }
    },
    {
      "cell_type": "markdown",
      "source": [
        "#2.3.4. 나이브 베이즈 분류기"
      ],
      "metadata": {
        "id": "o_t3QCDs23vG"
      }
    },
    {
      "cell_type": "code",
      "source": [
        "# 나이브 베이즈 분류기는 앞서 소개된 선형 모델의 분류기와 매우 유사합니다.\n",
        "# 장점으로는 데이터의 훈련 속도가 빠르다는 점! 하지만 모델의 일반화 성능이 낮아서.. 즉, 과대적합을 보인다는 거겠죠..\n",
        "\n",
        "# 어떤 분류기가 있는지... 어떤한 경우에 쓰이는지는 책을 참고하도록 하고 .. 이 곳에서는 간단히 예제를 이용해 나이브 베이즈 분류기를 사용해보는 정도로만 하죠..\n",
        "\n",
        "# 사실,,, 나이브 베이즈 분류기는 이해가 잘 가지 않습니다 ㅠㅠㅠㅠ"
      ],
      "metadata": {
        "id": "mTF5q_dJ23PW"
      },
      "execution_count": null,
      "outputs": []
    },
    {
      "cell_type": "code",
      "source": [
        "# 우선 BernoulliNB 분류기는 각 클래스의 특성 중 0이 아닌 것이 몇 개인지 셉니다!\n",
        "\n",
        "X = np.array([[0, 1, 0, 1],\n",
        "              [1, 0, 1, 1],\n",
        "              [0, 0, 0, 1],\n",
        "              [1, 0, 1, 0]])\n",
        "y = np.array([0, 1, 0, 1])\n",
        "\n",
        "print(X.shape, y.shape)  # Input 데이터로 4x4의 넘파이 배열을 Target 데이터로는 4x1의 넘파이 배열을 생성해줍니다!\n",
        "print()\n",
        "print(X)\n",
        "print(y)"
      ],
      "metadata": {
        "colab": {
          "base_uri": "https://localhost:8080/"
        },
        "id": "agwmEoG14AuU",
        "outputId": "f07fd622-277a-48d3-c793-5ceb50252bfa"
      },
      "execution_count": null,
      "outputs": [
        {
          "output_type": "stream",
          "name": "stdout",
          "text": [
            "(4, 4) (4,)\n",
            "\n",
            "[[0 1 0 1]\n",
            " [1 0 1 1]\n",
            " [0 0 0 1]\n",
            " [1 0 1 0]]\n",
            "[0 1 0 1]\n"
          ]
        }
      ]
    },
    {
      "cell_type": "code",
      "source": [
        "counts = {}\n",
        "for label in np.unique(y):\n",
        "    # 각 클래스에 대해 반복\n",
        "    # 특성마다 1 이 나타난 횟수를 센다.\n",
        "    counts[label] = X[y == label].sum(axis=0)\n",
        "print(\"특성 카운트:\\n\", counts)"
      ],
      "metadata": {
        "colab": {
          "base_uri": "https://localhost:8080/"
        },
        "id": "Amk6px1e9Cl-",
        "outputId": "80b33fc7-c4c6-43ec-ba0a-077aa0b4eb56"
      },
      "execution_count": null,
      "outputs": [
        {
          "output_type": "stream",
          "name": "stdout",
          "text": [
            "특성 카운트:\n",
            " {0: array([0, 1, 0, 2]), 1: array([2, 0, 2, 1])}\n"
          ]
        }
      ]
    }
  ]
}